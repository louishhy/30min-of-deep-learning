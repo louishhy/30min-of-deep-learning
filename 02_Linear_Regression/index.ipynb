{
 "cells": [
  {
   "cell_type": "markdown",
   "metadata": {},
   "source": [
    "# 0x02_Regression and Bias-Variance Tradeoff\n",
    "\n",
    "In today's tutorial, we will cover:\n",
    "- Regression and a specific example, linear regression\n",
    "- Basis functions and feature engineering\n",
    "- Bias-variance tradeoff"
   ]
  },
  {
   "cell_type": "markdown",
   "metadata": {},
   "source": [
    "## 1. Today's dataset\n",
    "\n",
    "Today we will talk about real estate!\n",
    "\n",
    "**California housing dataset** is a dataset that contains information about housing prices in California in 1990.\n",
    "(So, sadly you cannot use it to predict the price of your future house, very likely...)\n",
    "\n",
    "It includes features such as the number of rooms, the age of the house, and the location of the house.\n",
    "\n",
    "We would like to predict the median house value."
   ]
  },
  {
   "cell_type": "markdown",
   "metadata": {},
   "source": [
    "> 🤔 **THINKING**\n",
    ">\n",
    "> - What kind of problem is this, regression or classification? Why?"
   ]
  },
  {
   "cell_type": "code",
   "execution_count": 1,
   "metadata": {},
   "outputs": [
    {
     "data": {
      "text/html": [
       "<div>\n",
       "<style scoped>\n",
       "    .dataframe tbody tr th:only-of-type {\n",
       "        vertical-align: middle;\n",
       "    }\n",
       "\n",
       "    .dataframe tbody tr th {\n",
       "        vertical-align: top;\n",
       "    }\n",
       "\n",
       "    .dataframe thead th {\n",
       "        text-align: right;\n",
       "    }\n",
       "</style>\n",
       "<table border=\"1\" class=\"dataframe\">\n",
       "  <thead>\n",
       "    <tr style=\"text-align: right;\">\n",
       "      <th></th>\n",
       "      <th>longitude</th>\n",
       "      <th>latitude</th>\n",
       "      <th>housing_median_age</th>\n",
       "      <th>total_rooms</th>\n",
       "      <th>total_bedrooms</th>\n",
       "      <th>population</th>\n",
       "      <th>households</th>\n",
       "      <th>median_income</th>\n",
       "      <th>median_house_value</th>\n",
       "      <th>ocean_proximity</th>\n",
       "    </tr>\n",
       "  </thead>\n",
       "  <tbody>\n",
       "    <tr>\n",
       "      <th>0</th>\n",
       "      <td>-122.23</td>\n",
       "      <td>37.88</td>\n",
       "      <td>41.0</td>\n",
       "      <td>880.0</td>\n",
       "      <td>129.0</td>\n",
       "      <td>322.0</td>\n",
       "      <td>126.0</td>\n",
       "      <td>8.3252</td>\n",
       "      <td>452600.0</td>\n",
       "      <td>NEAR BAY</td>\n",
       "    </tr>\n",
       "    <tr>\n",
       "      <th>1</th>\n",
       "      <td>-122.22</td>\n",
       "      <td>37.86</td>\n",
       "      <td>21.0</td>\n",
       "      <td>7099.0</td>\n",
       "      <td>1106.0</td>\n",
       "      <td>2401.0</td>\n",
       "      <td>1138.0</td>\n",
       "      <td>8.3014</td>\n",
       "      <td>358500.0</td>\n",
       "      <td>NEAR BAY</td>\n",
       "    </tr>\n",
       "    <tr>\n",
       "      <th>2</th>\n",
       "      <td>-122.24</td>\n",
       "      <td>37.85</td>\n",
       "      <td>52.0</td>\n",
       "      <td>1467.0</td>\n",
       "      <td>190.0</td>\n",
       "      <td>496.0</td>\n",
       "      <td>177.0</td>\n",
       "      <td>7.2574</td>\n",
       "      <td>352100.0</td>\n",
       "      <td>NEAR BAY</td>\n",
       "    </tr>\n",
       "    <tr>\n",
       "      <th>3</th>\n",
       "      <td>-122.25</td>\n",
       "      <td>37.85</td>\n",
       "      <td>52.0</td>\n",
       "      <td>1274.0</td>\n",
       "      <td>235.0</td>\n",
       "      <td>558.0</td>\n",
       "      <td>219.0</td>\n",
       "      <td>5.6431</td>\n",
       "      <td>341300.0</td>\n",
       "      <td>NEAR BAY</td>\n",
       "    </tr>\n",
       "    <tr>\n",
       "      <th>4</th>\n",
       "      <td>-122.25</td>\n",
       "      <td>37.85</td>\n",
       "      <td>52.0</td>\n",
       "      <td>1627.0</td>\n",
       "      <td>280.0</td>\n",
       "      <td>565.0</td>\n",
       "      <td>259.0</td>\n",
       "      <td>3.8462</td>\n",
       "      <td>342200.0</td>\n",
       "      <td>NEAR BAY</td>\n",
       "    </tr>\n",
       "  </tbody>\n",
       "</table>\n",
       "</div>"
      ],
      "text/plain": [
       "   longitude  latitude  housing_median_age  total_rooms  total_bedrooms  \\\n",
       "0    -122.23     37.88                41.0        880.0           129.0   \n",
       "1    -122.22     37.86                21.0       7099.0          1106.0   \n",
       "2    -122.24     37.85                52.0       1467.0           190.0   \n",
       "3    -122.25     37.85                52.0       1274.0           235.0   \n",
       "4    -122.25     37.85                52.0       1627.0           280.0   \n",
       "\n",
       "   population  households  median_income  median_house_value ocean_proximity  \n",
       "0       322.0       126.0         8.3252            452600.0        NEAR BAY  \n",
       "1      2401.0      1138.0         8.3014            358500.0        NEAR BAY  \n",
       "2       496.0       177.0         7.2574            352100.0        NEAR BAY  \n",
       "3       558.0       219.0         5.6431            341300.0        NEAR BAY  \n",
       "4       565.0       259.0         3.8462            342200.0        NEAR BAY  "
      ]
     },
     "execution_count": 1,
     "metadata": {},
     "output_type": "execute_result"
    }
   ],
   "source": [
    "import pandas as pd\n",
    "\n",
    "housing_ds = pd.read_csv(\n",
    "    \"data/housing.csv\",\n",
    ")\n",
    "\n",
    "housing_ds.head()"
   ]
  },
  {
   "cell_type": "markdown",
   "metadata": {},
   "source": [
    "The columns here, quoting the original source:\n",
    "\n",
    "1. `longitude`: A measure of how far west a house is; a higher value is farther west\n",
    "2. `latitude`: A measure of how far north a house is; a higher value is farther north\n",
    "3. `housingMedianAge`: Median age of a house within a block; a lower number is a newer building\n",
    "4. `totalRooms`: Total number of rooms within a block\n",
    "5. `totalBedrooms`: Total number of bedrooms within a block\n",
    "6. `population`: Total number of people residing within a block\n",
    "7. `households`: Total number of households, a group of people residing within a home unit, for a block\n",
    "8. `medianIncome`: Median income for households within a block of houses (measured in tens of thousands of US Dollars)\n",
    "9. `medianHouseValue`: Median house value for households within a block (measured in US Dollars)\n",
    "10. `oceanProximity`: Location of the house w.r.t ocean/sea"
   ]
  },
  {
   "cell_type": "markdown",
   "metadata": {},
   "source": [
    "## 2. Vanilla linear regression\n",
    "\n",
    "Linear regression is described by the following equation:\n",
    "$$\n",
    "y = w_0 + w_1 \\textbf{x}_1 + w_2 \\textbf{x}_2 + ... + w_n \\textbf{x}_n = w_0 + \\sum_{i=1}^n w_i \\textbf{x}_i\n",
    "$$\n",
    "\n",
    "where $y$ is the target variable (house price),\n",
    "$\\textbf{x}_i$ are the input vector variables (e.g., number of rooms, age of the house), and $w_i$ are the weights (coefficients) that we need to learn from the data.\n",
    "\n",
    "The weights are learned by minimizing the mean squared error (MSE) between the predicted and actual values of the target variable."
   ]
  },
  {
   "cell_type": "markdown",
   "metadata": {},
   "source": [
    "Let's do this! But, wait a second..."
   ]
  },
  {
   "cell_type": "markdown",
   "metadata": {},
   "source": [
    "### 2.1 Before you start...\n",
    "\n",
    "> 🤔 **THINKING**\n",
    ">\n",
    "> - Look at the data. Can we directly dump it into a linear regression model? Why or why not?\n",
    "> - What are the possible problems with the data?"
   ]
  },
  {
   "cell_type": "markdown",
   "metadata": {},
   "source": [
    "The first problem is that we haven't checked whether we have missing values or not.\n",
    "\n",
    "It is **VERY COMMON** for datasets to have missing values or buggy source files, and it is a pain, especially if it **breaks your training code that takes a long time** 😭.\n",
    "\n",
    "Data cleansing is crucial.\n",
    "\n",
    "In this example, we will remove the NaNs as an example of data cleansing."
   ]
  },
  {
   "cell_type": "code",
   "execution_count": 2,
   "metadata": {},
   "outputs": [
    {
     "data": {
      "text/plain": [
       "longitude               0\n",
       "latitude                0\n",
       "housing_median_age      0\n",
       "total_rooms             0\n",
       "total_bedrooms        207\n",
       "population              0\n",
       "households              0\n",
       "median_income           0\n",
       "median_house_value      0\n",
       "ocean_proximity         0\n",
       "dtype: int64"
      ]
     },
     "execution_count": 2,
     "metadata": {},
     "output_type": "execute_result"
    }
   ],
   "source": [
    "housing_ds.isna().sum()"
   ]
  },
  {
   "cell_type": "markdown",
   "metadata": {},
   "source": [
    "You can see that there are 207 missing values in the `total_bedrooms` column!\n",
    "\n",
    "This will break the code.\n",
    "\n",
    "We can get rid of them by dropping the rows with missing values."
   ]
  },
  {
   "cell_type": "code",
   "execution_count": 3,
   "metadata": {},
   "outputs": [
    {
     "data": {
      "text/plain": [
       "longitude             0\n",
       "latitude              0\n",
       "housing_median_age    0\n",
       "total_rooms           0\n",
       "total_bedrooms        0\n",
       "population            0\n",
       "households            0\n",
       "median_income         0\n",
       "median_house_value    0\n",
       "ocean_proximity       0\n",
       "dtype: int64"
      ]
     },
     "execution_count": 3,
     "metadata": {},
     "output_type": "execute_result"
    }
   ],
   "source": [
    "housing_ds = housing_ds.dropna()\n",
    "housing_ds.isna().sum()"
   ]
  },
  {
   "cell_type": "markdown",
   "metadata": {},
   "source": [
    "Voila!\n",
    "\n",
    "Also, as you can see, `ocean_proximity` is a categorical variable. We cannot use it directly in a linear regression model since $x_i$ must be a number.\n",
    "\n",
    "Some of you may say, we can make it a number, e.g. `NEAR BAY = 0`, `INLAND = 1`, etc."
   ]
  },
  {
   "cell_type": "code",
   "execution_count": 4,
   "metadata": {},
   "outputs": [
    {
     "data": {
      "text/plain": [
       "array(['NEAR BAY', '<1H OCEAN', 'INLAND', 'NEAR OCEAN', 'ISLAND'],\n",
       "      dtype=object)"
      ]
     },
     "execution_count": 4,
     "metadata": {},
     "output_type": "execute_result"
    }
   ],
   "source": [
    "# List out the unique values in the 'ocean_proximity' column\n",
    "housing_ds[\"ocean_proximity\"].unique()"
   ]
  },
  {
   "cell_type": "markdown",
   "metadata": {},
   "source": [
    "> 🤔 **THINKING**\n",
    ">\n",
    "> - Is this a good idea? Why or why not?\n",
    "> - Can we compare `NEAR BAY` and `INLAND` with a number? What does it mean to say that `NEAR BAY` is `1` and `INLAND` is `2`?"
   ]
  },
  {
   "cell_type": "markdown",
   "metadata": {},
   "source": [
    "Let's prove your theory with a set of comparison experiment!"
   ]
  },
  {
   "cell_type": "code",
   "execution_count": 5,
   "metadata": {},
   "outputs": [],
   "source": [
    "# Split the dataset into training and testing sets\n",
    "from sklearn.model_selection import train_test_split\n",
    "\n",
    "# Split the dataset into training and testing sets\n",
    "# We control the randomness of the split with a random_state\n",
    "# This ensures that the split is reproducible\n",
    "train_ds, test_ds = train_test_split(\n",
    "    housing_ds,\n",
    "    test_size=0.2,\n",
    "    random_state=42,\n",
    ")"
   ]
  },
  {
   "cell_type": "code",
   "execution_count": 6,
   "metadata": {},
   "outputs": [],
   "source": [
    "# Create `train_ds_numeric` and `test_ds_numeric` datasets\n",
    "# In this dataset, the `ocean_proximity` column is mapped to plain numbers\n",
    "numeric_mapping = {\n",
    "    \"<1H OCEAN\": 0,\n",
    "    \"INLAND\": 1,\n",
    "    \"ISLAND\": 2,\n",
    "    \"NEAR BAY\": 3,\n",
    "    \"NEAR OCEAN\": 4,\n",
    "}\n",
    "train_ds_numeric: pd.DataFrame = train_ds.copy()\n",
    "train_ds_numeric[\"ocean_proximity\"] = train_ds_numeric[\"ocean_proximity\"].map(\n",
    "    numeric_mapping\n",
    ")\n",
    "test_ds_numeric: pd.DataFrame = test_ds.copy()\n",
    "test_ds_numeric[\"ocean_proximity\"] = test_ds_numeric[\"ocean_proximity\"].map(\n",
    "    numeric_mapping\n",
    ")"
   ]
  },
  {
   "cell_type": "code",
   "execution_count": 7,
   "metadata": {},
   "outputs": [
    {
     "data": {
      "text/html": [
       "<div>\n",
       "<style scoped>\n",
       "    .dataframe tbody tr th:only-of-type {\n",
       "        vertical-align: middle;\n",
       "    }\n",
       "\n",
       "    .dataframe tbody tr th {\n",
       "        vertical-align: top;\n",
       "    }\n",
       "\n",
       "    .dataframe thead th {\n",
       "        text-align: right;\n",
       "    }\n",
       "</style>\n",
       "<table border=\"1\" class=\"dataframe\">\n",
       "  <thead>\n",
       "    <tr style=\"text-align: right;\">\n",
       "      <th></th>\n",
       "      <th>longitude</th>\n",
       "      <th>latitude</th>\n",
       "      <th>housing_median_age</th>\n",
       "      <th>total_rooms</th>\n",
       "      <th>total_bedrooms</th>\n",
       "      <th>population</th>\n",
       "      <th>households</th>\n",
       "      <th>median_income</th>\n",
       "      <th>median_house_value</th>\n",
       "      <th>ocean_proximity</th>\n",
       "    </tr>\n",
       "  </thead>\n",
       "  <tbody>\n",
       "    <tr>\n",
       "      <th>17727</th>\n",
       "      <td>-121.80</td>\n",
       "      <td>37.32</td>\n",
       "      <td>14.0</td>\n",
       "      <td>4412.0</td>\n",
       "      <td>924.0</td>\n",
       "      <td>2698.0</td>\n",
       "      <td>891.0</td>\n",
       "      <td>4.7027</td>\n",
       "      <td>227600.0</td>\n",
       "      <td>0</td>\n",
       "    </tr>\n",
       "    <tr>\n",
       "      <th>2057</th>\n",
       "      <td>-119.63</td>\n",
       "      <td>36.64</td>\n",
       "      <td>33.0</td>\n",
       "      <td>1036.0</td>\n",
       "      <td>181.0</td>\n",
       "      <td>620.0</td>\n",
       "      <td>174.0</td>\n",
       "      <td>3.4107</td>\n",
       "      <td>110400.0</td>\n",
       "      <td>1</td>\n",
       "    </tr>\n",
       "    <tr>\n",
       "      <th>6453</th>\n",
       "      <td>-118.06</td>\n",
       "      <td>34.12</td>\n",
       "      <td>25.0</td>\n",
       "      <td>3891.0</td>\n",
       "      <td>848.0</td>\n",
       "      <td>1848.0</td>\n",
       "      <td>759.0</td>\n",
       "      <td>3.6639</td>\n",
       "      <td>248100.0</td>\n",
       "      <td>1</td>\n",
       "    </tr>\n",
       "    <tr>\n",
       "      <th>4619</th>\n",
       "      <td>-118.31</td>\n",
       "      <td>34.07</td>\n",
       "      <td>28.0</td>\n",
       "      <td>2362.0</td>\n",
       "      <td>949.0</td>\n",
       "      <td>2759.0</td>\n",
       "      <td>894.0</td>\n",
       "      <td>2.2364</td>\n",
       "      <td>305600.0</td>\n",
       "      <td>0</td>\n",
       "    </tr>\n",
       "    <tr>\n",
       "      <th>15266</th>\n",
       "      <td>-117.27</td>\n",
       "      <td>33.04</td>\n",
       "      <td>27.0</td>\n",
       "      <td>1839.0</td>\n",
       "      <td>392.0</td>\n",
       "      <td>1302.0</td>\n",
       "      <td>404.0</td>\n",
       "      <td>3.5500</td>\n",
       "      <td>214600.0</td>\n",
       "      <td>4</td>\n",
       "    </tr>\n",
       "  </tbody>\n",
       "</table>\n",
       "</div>"
      ],
      "text/plain": [
       "       longitude  latitude  housing_median_age  total_rooms  total_bedrooms  \\\n",
       "17727    -121.80     37.32                14.0       4412.0           924.0   \n",
       "2057     -119.63     36.64                33.0       1036.0           181.0   \n",
       "6453     -118.06     34.12                25.0       3891.0           848.0   \n",
       "4619     -118.31     34.07                28.0       2362.0           949.0   \n",
       "15266    -117.27     33.04                27.0       1839.0           392.0   \n",
       "\n",
       "       population  households  median_income  median_house_value  \\\n",
       "17727      2698.0       891.0         4.7027            227600.0   \n",
       "2057        620.0       174.0         3.4107            110400.0   \n",
       "6453       1848.0       759.0         3.6639            248100.0   \n",
       "4619       2759.0       894.0         2.2364            305600.0   \n",
       "15266      1302.0       404.0         3.5500            214600.0   \n",
       "\n",
       "       ocean_proximity  \n",
       "17727                0  \n",
       "2057                 1  \n",
       "6453                 1  \n",
       "4619                 0  \n",
       "15266                4  "
      ]
     },
     "execution_count": 7,
     "metadata": {},
     "output_type": "execute_result"
    }
   ],
   "source": [
    "train_ds_numeric.head()  # ocean_proximity column is now numerically encoded (0-4)"
   ]
  },
  {
   "cell_type": "code",
   "execution_count": 8,
   "metadata": {},
   "outputs": [
    {
     "data": {
      "text/html": [
       "<div>\n",
       "<style scoped>\n",
       "    .dataframe tbody tr th:only-of-type {\n",
       "        vertical-align: middle;\n",
       "    }\n",
       "\n",
       "    .dataframe tbody tr th {\n",
       "        vertical-align: top;\n",
       "    }\n",
       "\n",
       "    .dataframe thead th {\n",
       "        text-align: right;\n",
       "    }\n",
       "</style>\n",
       "<table border=\"1\" class=\"dataframe\">\n",
       "  <thead>\n",
       "    <tr style=\"text-align: right;\">\n",
       "      <th></th>\n",
       "      <th>longitude</th>\n",
       "      <th>latitude</th>\n",
       "      <th>housing_median_age</th>\n",
       "      <th>total_rooms</th>\n",
       "      <th>total_bedrooms</th>\n",
       "      <th>population</th>\n",
       "      <th>households</th>\n",
       "      <th>median_income</th>\n",
       "      <th>median_house_value</th>\n",
       "      <th>ocean_proximity</th>\n",
       "    </tr>\n",
       "  </thead>\n",
       "  <tbody>\n",
       "    <tr>\n",
       "      <th>14416</th>\n",
       "      <td>-117.24</td>\n",
       "      <td>32.79</td>\n",
       "      <td>20.0</td>\n",
       "      <td>961.0</td>\n",
       "      <td>278.0</td>\n",
       "      <td>525.0</td>\n",
       "      <td>254.0</td>\n",
       "      <td>3.1838</td>\n",
       "      <td>245800.0</td>\n",
       "      <td>4</td>\n",
       "    </tr>\n",
       "    <tr>\n",
       "      <th>16383</th>\n",
       "      <td>-121.29</td>\n",
       "      <td>38.01</td>\n",
       "      <td>2.0</td>\n",
       "      <td>6403.0</td>\n",
       "      <td>1116.0</td>\n",
       "      <td>3327.0</td>\n",
       "      <td>957.0</td>\n",
       "      <td>4.4871</td>\n",
       "      <td>137900.0</td>\n",
       "      <td>1</td>\n",
       "    </tr>\n",
       "    <tr>\n",
       "      <th>7731</th>\n",
       "      <td>-118.14</td>\n",
       "      <td>33.92</td>\n",
       "      <td>31.0</td>\n",
       "      <td>3731.0</td>\n",
       "      <td>853.0</td>\n",
       "      <td>2313.0</td>\n",
       "      <td>801.0</td>\n",
       "      <td>3.2237</td>\n",
       "      <td>218200.0</td>\n",
       "      <td>0</td>\n",
       "    </tr>\n",
       "    <tr>\n",
       "      <th>1410</th>\n",
       "      <td>-122.07</td>\n",
       "      <td>37.94</td>\n",
       "      <td>30.0</td>\n",
       "      <td>1260.0</td>\n",
       "      <td>276.0</td>\n",
       "      <td>707.0</td>\n",
       "      <td>221.0</td>\n",
       "      <td>2.8920</td>\n",
       "      <td>220800.0</td>\n",
       "      <td>3</td>\n",
       "    </tr>\n",
       "    <tr>\n",
       "      <th>1335</th>\n",
       "      <td>-121.89</td>\n",
       "      <td>37.99</td>\n",
       "      <td>4.0</td>\n",
       "      <td>2171.0</td>\n",
       "      <td>597.0</td>\n",
       "      <td>928.0</td>\n",
       "      <td>461.0</td>\n",
       "      <td>4.1016</td>\n",
       "      <td>170500.0</td>\n",
       "      <td>1</td>\n",
       "    </tr>\n",
       "  </tbody>\n",
       "</table>\n",
       "</div>"
      ],
      "text/plain": [
       "       longitude  latitude  housing_median_age  total_rooms  total_bedrooms  \\\n",
       "14416    -117.24     32.79                20.0        961.0           278.0   \n",
       "16383    -121.29     38.01                 2.0       6403.0          1116.0   \n",
       "7731     -118.14     33.92                31.0       3731.0           853.0   \n",
       "1410     -122.07     37.94                30.0       1260.0           276.0   \n",
       "1335     -121.89     37.99                 4.0       2171.0           597.0   \n",
       "\n",
       "       population  households  median_income  median_house_value  \\\n",
       "14416       525.0       254.0         3.1838            245800.0   \n",
       "16383      3327.0       957.0         4.4871            137900.0   \n",
       "7731       2313.0       801.0         3.2237            218200.0   \n",
       "1410        707.0       221.0         2.8920            220800.0   \n",
       "1335        928.0       461.0         4.1016            170500.0   \n",
       "\n",
       "       ocean_proximity  \n",
       "14416                4  \n",
       "16383                1  \n",
       "7731                 0  \n",
       "1410                 3  \n",
       "1335                 1  "
      ]
     },
     "execution_count": 8,
     "metadata": {},
     "output_type": "execute_result"
    }
   ],
   "source": [
    "test_ds_numeric.head()"
   ]
  },
  {
   "cell_type": "markdown",
   "metadata": {},
   "source": [
    "Voila! Let's test how linear regression works.\n",
    "\n",
    "As a starting point, let's dump all our columns into a linear regression model and see what happens."
   ]
  },
  {
   "cell_type": "code",
   "execution_count": 9,
   "metadata": {},
   "outputs": [
    {
     "name": "stdout",
     "output_type": "stream",
     "text": [
      "Mean Squared Error (MSE): 4.924109e+09\n"
     ]
    }
   ],
   "source": [
    "# Regression metrics\n",
    "# Vanilla linear regression\n",
    "from sklearn.linear_model import LinearRegression\n",
    "from sklearn.metrics import mean_squared_error\n",
    "\n",
    "# Define the model\n",
    "model_numeric = LinearRegression()\n",
    "# Fit the model\n",
    "model_numeric.fit(\n",
    "    train_ds_numeric.drop(\"median_house_value\", axis=1),\n",
    "    train_ds_numeric[\"median_house_value\"],\n",
    ")\n",
    "\n",
    "# Predict the values\n",
    "predictions_numeric = model_numeric.predict(\n",
    "    test_ds_numeric.drop(\"median_house_value\", axis=1),\n",
    ")\n",
    "\n",
    "# Calculate the mean squared error\n",
    "mse_numeric = mean_squared_error(\n",
    "    test_ds_numeric[\"median_house_value\"],\n",
    "    predictions_numeric,\n",
    ")\n",
    "print(f\"Mean Squared Error (MSE): {mse_numeric:e}\")"
   ]
  },
  {
   "cell_type": "markdown",
   "metadata": {},
   "source": [
    "### 2.2 One-hot encoding\n",
    "We now propose another way to encode categorical variables.\n",
    "\n",
    "Instead of assigning a number to each category, we can create a new column for each category and assign `1` or `0` to indicate whether the category is present or not.\n",
    "This is called **one-hot encoding**.\n",
    "\n",
    "For example, if we have a column `ocean_proximity` with the values `NEAR BAY`, `INLAND`, and `ISLAND`, we can create three new columns:\n",
    "- `ocean_proximity_NEAR_BAY`: `1` if the value is `NEAR BAY`, `0` otherwise\n",
    "- `ocean_proximity_INLAND`: `1` if the value is `INLAND`, `0` otherwise\n",
    "- `ocean_proximity_ISLAND`: `1` if the value is `ISLAND`, `0` otherwise"
   ]
  },
  {
   "cell_type": "markdown",
   "metadata": {},
   "source": [
    "> 🤔 **THINKING**\n",
    ">\n",
    "> - How do you like this encoding? Is it better than the previous one? Why or why not?"
   ]
  },
  {
   "cell_type": "code",
   "execution_count": 10,
   "metadata": {},
   "outputs": [],
   "source": [
    "train_ds_onehot = pd.get_dummies(\n",
    "    train_ds,\n",
    "    columns=[\"ocean_proximity\"],\n",
    "    drop_first=True,\n",
    ")\n",
    "test_ds_onehot = pd.get_dummies(\n",
    "    test_ds,\n",
    "    columns=[\"ocean_proximity\"],\n",
    "    drop_first=True,\n",
    ")"
   ]
  },
  {
   "cell_type": "code",
   "execution_count": 11,
   "metadata": {},
   "outputs": [
    {
     "data": {
      "text/html": [
       "<div>\n",
       "<style scoped>\n",
       "    .dataframe tbody tr th:only-of-type {\n",
       "        vertical-align: middle;\n",
       "    }\n",
       "\n",
       "    .dataframe tbody tr th {\n",
       "        vertical-align: top;\n",
       "    }\n",
       "\n",
       "    .dataframe thead th {\n",
       "        text-align: right;\n",
       "    }\n",
       "</style>\n",
       "<table border=\"1\" class=\"dataframe\">\n",
       "  <thead>\n",
       "    <tr style=\"text-align: right;\">\n",
       "      <th></th>\n",
       "      <th>longitude</th>\n",
       "      <th>latitude</th>\n",
       "      <th>housing_median_age</th>\n",
       "      <th>total_rooms</th>\n",
       "      <th>total_bedrooms</th>\n",
       "      <th>population</th>\n",
       "      <th>households</th>\n",
       "      <th>median_income</th>\n",
       "      <th>median_house_value</th>\n",
       "      <th>ocean_proximity_INLAND</th>\n",
       "      <th>ocean_proximity_ISLAND</th>\n",
       "      <th>ocean_proximity_NEAR BAY</th>\n",
       "      <th>ocean_proximity_NEAR OCEAN</th>\n",
       "    </tr>\n",
       "  </thead>\n",
       "  <tbody>\n",
       "    <tr>\n",
       "      <th>17727</th>\n",
       "      <td>-121.80</td>\n",
       "      <td>37.32</td>\n",
       "      <td>14.0</td>\n",
       "      <td>4412.0</td>\n",
       "      <td>924.0</td>\n",
       "      <td>2698.0</td>\n",
       "      <td>891.0</td>\n",
       "      <td>4.7027</td>\n",
       "      <td>227600.0</td>\n",
       "      <td>False</td>\n",
       "      <td>False</td>\n",
       "      <td>False</td>\n",
       "      <td>False</td>\n",
       "    </tr>\n",
       "    <tr>\n",
       "      <th>2057</th>\n",
       "      <td>-119.63</td>\n",
       "      <td>36.64</td>\n",
       "      <td>33.0</td>\n",
       "      <td>1036.0</td>\n",
       "      <td>181.0</td>\n",
       "      <td>620.0</td>\n",
       "      <td>174.0</td>\n",
       "      <td>3.4107</td>\n",
       "      <td>110400.0</td>\n",
       "      <td>True</td>\n",
       "      <td>False</td>\n",
       "      <td>False</td>\n",
       "      <td>False</td>\n",
       "    </tr>\n",
       "    <tr>\n",
       "      <th>6453</th>\n",
       "      <td>-118.06</td>\n",
       "      <td>34.12</td>\n",
       "      <td>25.0</td>\n",
       "      <td>3891.0</td>\n",
       "      <td>848.0</td>\n",
       "      <td>1848.0</td>\n",
       "      <td>759.0</td>\n",
       "      <td>3.6639</td>\n",
       "      <td>248100.0</td>\n",
       "      <td>True</td>\n",
       "      <td>False</td>\n",
       "      <td>False</td>\n",
       "      <td>False</td>\n",
       "    </tr>\n",
       "    <tr>\n",
       "      <th>4619</th>\n",
       "      <td>-118.31</td>\n",
       "      <td>34.07</td>\n",
       "      <td>28.0</td>\n",
       "      <td>2362.0</td>\n",
       "      <td>949.0</td>\n",
       "      <td>2759.0</td>\n",
       "      <td>894.0</td>\n",
       "      <td>2.2364</td>\n",
       "      <td>305600.0</td>\n",
       "      <td>False</td>\n",
       "      <td>False</td>\n",
       "      <td>False</td>\n",
       "      <td>False</td>\n",
       "    </tr>\n",
       "    <tr>\n",
       "      <th>15266</th>\n",
       "      <td>-117.27</td>\n",
       "      <td>33.04</td>\n",
       "      <td>27.0</td>\n",
       "      <td>1839.0</td>\n",
       "      <td>392.0</td>\n",
       "      <td>1302.0</td>\n",
       "      <td>404.0</td>\n",
       "      <td>3.5500</td>\n",
       "      <td>214600.0</td>\n",
       "      <td>False</td>\n",
       "      <td>False</td>\n",
       "      <td>False</td>\n",
       "      <td>True</td>\n",
       "    </tr>\n",
       "  </tbody>\n",
       "</table>\n",
       "</div>"
      ],
      "text/plain": [
       "       longitude  latitude  housing_median_age  total_rooms  total_bedrooms  \\\n",
       "17727    -121.80     37.32                14.0       4412.0           924.0   \n",
       "2057     -119.63     36.64                33.0       1036.0           181.0   \n",
       "6453     -118.06     34.12                25.0       3891.0           848.0   \n",
       "4619     -118.31     34.07                28.0       2362.0           949.0   \n",
       "15266    -117.27     33.04                27.0       1839.0           392.0   \n",
       "\n",
       "       population  households  median_income  median_house_value  \\\n",
       "17727      2698.0       891.0         4.7027            227600.0   \n",
       "2057        620.0       174.0         3.4107            110400.0   \n",
       "6453       1848.0       759.0         3.6639            248100.0   \n",
       "4619       2759.0       894.0         2.2364            305600.0   \n",
       "15266      1302.0       404.0         3.5500            214600.0   \n",
       "\n",
       "       ocean_proximity_INLAND  ocean_proximity_ISLAND  \\\n",
       "17727                   False                   False   \n",
       "2057                     True                   False   \n",
       "6453                     True                   False   \n",
       "4619                    False                   False   \n",
       "15266                   False                   False   \n",
       "\n",
       "       ocean_proximity_NEAR BAY  ocean_proximity_NEAR OCEAN  \n",
       "17727                     False                       False  \n",
       "2057                      False                       False  \n",
       "6453                      False                       False  \n",
       "4619                      False                       False  \n",
       "15266                     False                        True  "
      ]
     },
     "execution_count": 11,
     "metadata": {},
     "output_type": "execute_result"
    }
   ],
   "source": [
    "train_ds_onehot.head()  # ocean_proximity columns are now one-hot encoded"
   ]
  },
  {
   "cell_type": "code",
   "execution_count": 12,
   "metadata": {},
   "outputs": [
    {
     "data": {
      "text/html": [
       "<div>\n",
       "<style scoped>\n",
       "    .dataframe tbody tr th:only-of-type {\n",
       "        vertical-align: middle;\n",
       "    }\n",
       "\n",
       "    .dataframe tbody tr th {\n",
       "        vertical-align: top;\n",
       "    }\n",
       "\n",
       "    .dataframe thead th {\n",
       "        text-align: right;\n",
       "    }\n",
       "</style>\n",
       "<table border=\"1\" class=\"dataframe\">\n",
       "  <thead>\n",
       "    <tr style=\"text-align: right;\">\n",
       "      <th></th>\n",
       "      <th>longitude</th>\n",
       "      <th>latitude</th>\n",
       "      <th>housing_median_age</th>\n",
       "      <th>total_rooms</th>\n",
       "      <th>total_bedrooms</th>\n",
       "      <th>population</th>\n",
       "      <th>households</th>\n",
       "      <th>median_income</th>\n",
       "      <th>median_house_value</th>\n",
       "      <th>ocean_proximity_INLAND</th>\n",
       "      <th>ocean_proximity_ISLAND</th>\n",
       "      <th>ocean_proximity_NEAR BAY</th>\n",
       "      <th>ocean_proximity_NEAR OCEAN</th>\n",
       "    </tr>\n",
       "  </thead>\n",
       "  <tbody>\n",
       "    <tr>\n",
       "      <th>14416</th>\n",
       "      <td>-117.24</td>\n",
       "      <td>32.79</td>\n",
       "      <td>20.0</td>\n",
       "      <td>961.0</td>\n",
       "      <td>278.0</td>\n",
       "      <td>525.0</td>\n",
       "      <td>254.0</td>\n",
       "      <td>3.1838</td>\n",
       "      <td>245800.0</td>\n",
       "      <td>False</td>\n",
       "      <td>False</td>\n",
       "      <td>False</td>\n",
       "      <td>True</td>\n",
       "    </tr>\n",
       "    <tr>\n",
       "      <th>16383</th>\n",
       "      <td>-121.29</td>\n",
       "      <td>38.01</td>\n",
       "      <td>2.0</td>\n",
       "      <td>6403.0</td>\n",
       "      <td>1116.0</td>\n",
       "      <td>3327.0</td>\n",
       "      <td>957.0</td>\n",
       "      <td>4.4871</td>\n",
       "      <td>137900.0</td>\n",
       "      <td>True</td>\n",
       "      <td>False</td>\n",
       "      <td>False</td>\n",
       "      <td>False</td>\n",
       "    </tr>\n",
       "    <tr>\n",
       "      <th>7731</th>\n",
       "      <td>-118.14</td>\n",
       "      <td>33.92</td>\n",
       "      <td>31.0</td>\n",
       "      <td>3731.0</td>\n",
       "      <td>853.0</td>\n",
       "      <td>2313.0</td>\n",
       "      <td>801.0</td>\n",
       "      <td>3.2237</td>\n",
       "      <td>218200.0</td>\n",
       "      <td>False</td>\n",
       "      <td>False</td>\n",
       "      <td>False</td>\n",
       "      <td>False</td>\n",
       "    </tr>\n",
       "    <tr>\n",
       "      <th>1410</th>\n",
       "      <td>-122.07</td>\n",
       "      <td>37.94</td>\n",
       "      <td>30.0</td>\n",
       "      <td>1260.0</td>\n",
       "      <td>276.0</td>\n",
       "      <td>707.0</td>\n",
       "      <td>221.0</td>\n",
       "      <td>2.8920</td>\n",
       "      <td>220800.0</td>\n",
       "      <td>False</td>\n",
       "      <td>False</td>\n",
       "      <td>True</td>\n",
       "      <td>False</td>\n",
       "    </tr>\n",
       "    <tr>\n",
       "      <th>1335</th>\n",
       "      <td>-121.89</td>\n",
       "      <td>37.99</td>\n",
       "      <td>4.0</td>\n",
       "      <td>2171.0</td>\n",
       "      <td>597.0</td>\n",
       "      <td>928.0</td>\n",
       "      <td>461.0</td>\n",
       "      <td>4.1016</td>\n",
       "      <td>170500.0</td>\n",
       "      <td>True</td>\n",
       "      <td>False</td>\n",
       "      <td>False</td>\n",
       "      <td>False</td>\n",
       "    </tr>\n",
       "  </tbody>\n",
       "</table>\n",
       "</div>"
      ],
      "text/plain": [
       "       longitude  latitude  housing_median_age  total_rooms  total_bedrooms  \\\n",
       "14416    -117.24     32.79                20.0        961.0           278.0   \n",
       "16383    -121.29     38.01                 2.0       6403.0          1116.0   \n",
       "7731     -118.14     33.92                31.0       3731.0           853.0   \n",
       "1410     -122.07     37.94                30.0       1260.0           276.0   \n",
       "1335     -121.89     37.99                 4.0       2171.0           597.0   \n",
       "\n",
       "       population  households  median_income  median_house_value  \\\n",
       "14416       525.0       254.0         3.1838            245800.0   \n",
       "16383      3327.0       957.0         4.4871            137900.0   \n",
       "7731       2313.0       801.0         3.2237            218200.0   \n",
       "1410        707.0       221.0         2.8920            220800.0   \n",
       "1335        928.0       461.0         4.1016            170500.0   \n",
       "\n",
       "       ocean_proximity_INLAND  ocean_proximity_ISLAND  \\\n",
       "14416                   False                   False   \n",
       "16383                    True                   False   \n",
       "7731                    False                   False   \n",
       "1410                    False                   False   \n",
       "1335                     True                   False   \n",
       "\n",
       "       ocean_proximity_NEAR BAY  ocean_proximity_NEAR OCEAN  \n",
       "14416                     False                        True  \n",
       "16383                     False                       False  \n",
       "7731                      False                       False  \n",
       "1410                       True                       False  \n",
       "1335                      False                       False  "
      ]
     },
     "execution_count": 12,
     "metadata": {},
     "output_type": "execute_result"
    }
   ],
   "source": [
    "test_ds_onehot.head()"
   ]
  },
  {
   "cell_type": "code",
   "execution_count": 13,
   "metadata": {},
   "outputs": [
    {
     "name": "stdout",
     "output_type": "stream",
     "text": [
      "Mean Squared Error (MSE): 4.802174e+09\n"
     ]
    }
   ],
   "source": [
    "model_onehot = LinearRegression()\n",
    "# Fit the model\n",
    "model_onehot.fit(\n",
    "    train_ds_onehot.drop(\"median_house_value\", axis=1),\n",
    "    train_ds_onehot[\"median_house_value\"],\n",
    ")\n",
    "# Predict the values\n",
    "predictions_onehot = model_onehot.predict(\n",
    "    test_ds_onehot.drop(\"median_house_value\", axis=1),\n",
    ")\n",
    "# Calculate the mean squared error\n",
    "mse_onehot = mean_squared_error(\n",
    "    test_ds_onehot[\"median_house_value\"],\n",
    "    predictions_onehot,\n",
    ")\n",
    "print(f\"Mean Squared Error (MSE): {mse_onehot:e}\")"
   ]
  },
  {
   "cell_type": "code",
   "execution_count": 14,
   "metadata": {},
   "outputs": [
    {
     "name": "stdout",
     "output_type": "stream",
     "text": [
      "Mean square error difference: -121935399.31\n"
     ]
    }
   ],
   "source": [
    "print(f\"Mean square error difference: {mse_onehot - mse_numeric:.2f}\")"
   ]
  },
  {
   "cell_type": "markdown",
   "metadata": {},
   "source": [
    "Hey, not bad! We have, at least in this case, proven that one-hot encoding is better than simply assigning a number to each category."
   ]
  },
  {
   "cell_type": "markdown",
   "metadata": {},
   "source": [
    "> 📚 **EXERCISE**\n",
    ">\n",
    "> - Dropping NaNs is the simplest way to deal with missing values. However there could be other problems. Can you think of any?\n",
    "> (One possible hint: Are all of those values reasonable?)\n",
    "> - Can you think of a solution to the problem you have just identified?\n",
    "> - Use your new data to train your own model. Is it better than the one we have provided?"
   ]
  },
  {
   "cell_type": "code",
   "execution_count": 15,
   "metadata": {},
   "outputs": [],
   "source": [
    "# === Your code here ==="
   ]
  },
  {
   "cell_type": "markdown",
   "metadata": {},
   "source": [
    "## 3. Basis functions and feature engineering\n",
    "\n",
    "We have seen that linear regression is a powerful tool for regression problems. However, it has its limitations. \n",
    "\n",
    "For example, it can only learn linear relationships between the features and the target variable.\n",
    "This means that if the relationship is non-linear, linear regression will not work well.\n"
   ]
  },
  {
   "cell_type": "markdown",
   "metadata": {},
   "source": [
    "**Basis functions** can help you.\n",
    "\n",
    "A basis function is a function that transforms the input features into a new space where linear regression can be applied.\n",
    "In terms of formula, we can write it as follows:\n",
    "$$\n",
    "y = w_0 + w_1 \\phi_1(\\textbf{x}) + w_2 \\phi_2(\\textbf{x}) + ... + w_n \\phi_n(\\textbf{x}) = w_0 + \\textbf{w}^T \\phi(\\textbf{x})$$\n",
    "\n",
    "where $\\phi(\\textbf{x})$ is the vector of basis functions applied to the input feature vector $\\textbf{x}$, and $\\textbf{w}$ is the vector of weights."
   ]
  },
  {
   "cell_type": "markdown",
   "metadata": {},
   "source": [
    "A simple example of a basis function is the polynomial function. \n",
    "\n",
    "For example, if we have a single feature $x$, we can create new features by applying the polynomial function:\n",
    "$$\\phi_1(x) = x$$\n",
    "$$\\phi_2(x) = x^2$$\n",
    "$$\\phi_3(x) = x^3$$\n",
    "$$...$$\n",
    "\n",
    "This way, we can learn non-linear relationships between the features and the target variable."
   ]
  },
  {
   "cell_type": "markdown",
   "metadata": {},
   "source": [
    "How about we try one right now?\n",
    "\n",
    "We can use `PolynomialFeatures` from `sklearn.preprocessing` to create polynomial features."
   ]
  },
  {
   "cell_type": "code",
   "execution_count": 16,
   "metadata": {},
   "outputs": [
    {
     "name": "stdout",
     "output_type": "stream",
     "text": [
      "Polynomial feature names:\n",
      "['longitude' 'latitude' 'housing_median_age' 'total_rooms'\n",
      " 'total_bedrooms' 'population' 'households' 'median_income'\n",
      " 'ocean_proximity_INLAND' 'ocean_proximity_ISLAND'\n",
      " 'ocean_proximity_NEAR BAY' 'ocean_proximity_NEAR OCEAN' 'longitude^2'\n",
      " 'longitude latitude' 'longitude housing_median_age'\n",
      " 'longitude total_rooms' 'longitude total_bedrooms' 'longitude population'\n",
      " 'longitude households' 'longitude median_income'\n",
      " 'longitude ocean_proximity_INLAND' 'longitude ocean_proximity_ISLAND'\n",
      " 'longitude ocean_proximity_NEAR BAY'\n",
      " 'longitude ocean_proximity_NEAR OCEAN' 'latitude^2'\n",
      " 'latitude housing_median_age' 'latitude total_rooms'\n",
      " 'latitude total_bedrooms' 'latitude population' 'latitude households'\n",
      " 'latitude median_income' 'latitude ocean_proximity_INLAND'\n",
      " 'latitude ocean_proximity_ISLAND' 'latitude ocean_proximity_NEAR BAY'\n",
      " 'latitude ocean_proximity_NEAR OCEAN' 'housing_median_age^2'\n",
      " 'housing_median_age total_rooms' 'housing_median_age total_bedrooms'\n",
      " 'housing_median_age population' 'housing_median_age households'\n",
      " 'housing_median_age median_income'\n",
      " 'housing_median_age ocean_proximity_INLAND'\n",
      " 'housing_median_age ocean_proximity_ISLAND'\n",
      " 'housing_median_age ocean_proximity_NEAR BAY'\n",
      " 'housing_median_age ocean_proximity_NEAR OCEAN' 'total_rooms^2'\n",
      " 'total_rooms total_bedrooms' 'total_rooms population'\n",
      " 'total_rooms households' 'total_rooms median_income'\n",
      " 'total_rooms ocean_proximity_INLAND' 'total_rooms ocean_proximity_ISLAND'\n",
      " 'total_rooms ocean_proximity_NEAR BAY'\n",
      " 'total_rooms ocean_proximity_NEAR OCEAN' 'total_bedrooms^2'\n",
      " 'total_bedrooms population' 'total_bedrooms households'\n",
      " 'total_bedrooms median_income' 'total_bedrooms ocean_proximity_INLAND'\n",
      " 'total_bedrooms ocean_proximity_ISLAND'\n",
      " 'total_bedrooms ocean_proximity_NEAR BAY'\n",
      " 'total_bedrooms ocean_proximity_NEAR OCEAN' 'population^2'\n",
      " 'population households' 'population median_income'\n",
      " 'population ocean_proximity_INLAND' 'population ocean_proximity_ISLAND'\n",
      " 'population ocean_proximity_NEAR BAY'\n",
      " 'population ocean_proximity_NEAR OCEAN' 'households^2'\n",
      " 'households median_income' 'households ocean_proximity_INLAND'\n",
      " 'households ocean_proximity_ISLAND' 'households ocean_proximity_NEAR BAY'\n",
      " 'households ocean_proximity_NEAR OCEAN' 'median_income^2'\n",
      " 'median_income ocean_proximity_INLAND'\n",
      " 'median_income ocean_proximity_ISLAND'\n",
      " 'median_income ocean_proximity_NEAR BAY'\n",
      " 'median_income ocean_proximity_NEAR OCEAN' 'ocean_proximity_INLAND^2'\n",
      " 'ocean_proximity_INLAND ocean_proximity_ISLAND'\n",
      " 'ocean_proximity_INLAND ocean_proximity_NEAR BAY'\n",
      " 'ocean_proximity_INLAND ocean_proximity_NEAR OCEAN'\n",
      " 'ocean_proximity_ISLAND^2'\n",
      " 'ocean_proximity_ISLAND ocean_proximity_NEAR BAY'\n",
      " 'ocean_proximity_ISLAND ocean_proximity_NEAR OCEAN'\n",
      " 'ocean_proximity_NEAR BAY^2'\n",
      " 'ocean_proximity_NEAR BAY ocean_proximity_NEAR OCEAN'\n",
      " 'ocean_proximity_NEAR OCEAN^2']\n"
     ]
    }
   ],
   "source": [
    "from sklearn.preprocessing import PolynomialFeatures\n",
    "\n",
    "# Create polynomial features\n",
    "# Here we are using degree=2, which means we will create polynomial features up to the 2rd degree\n",
    "poly = PolynomialFeatures(degree=2, include_bias=False)\n",
    "X_poly_train = poly.fit_transform(train_ds_onehot.drop(\"median_house_value\", axis=1))\n",
    "X_poly_test = poly.transform(test_ds_onehot.drop(\"median_house_value\", axis=1))\n",
    "\n",
    "# We can take a look at what the polynomial features look like\n",
    "# THIS COULD BE LONG!\n",
    "# You can use the scrollable output feature in Jupyter Notebook to see the full output\n",
    "# Use get_feature_names_out to get the names of the features\n",
    "feature_names = poly.get_feature_names_out(\n",
    "    input_features=train_ds_onehot.drop(\"median_house_value\", axis=1).columns\n",
    ")\n",
    "print(f\"Polynomial feature names:\\n{feature_names}\")"
   ]
  },
  {
   "cell_type": "markdown",
   "metadata": {},
   "source": [
    "You can see that polynomial feature generates new features by taking the original features and raising them to a power, including combining between them.\n",
    "\n",
    "As an example, for two features `x1` and `x2`, `PolynomialFeatures` creates new features `x1^2`, `x2^2`, and `x1*x2`.\n",
    "\n",
    "This rule applies to any number of features.\n",
    "\n",
    "And when the degree grows, say `degree=3`, we get even more features up to the third degree.\n",
    "(e.g. `x1^3`, `x2^3`, `x1^2*x2`, `x1*x2^2`, `x1*x2`, `x1^2`, `x2^2`, `x1`, `x2`)"
   ]
  },
  {
   "cell_type": "markdown",
   "metadata": {},
   "source": [
    "Now, let's see if PolynomialFeatures can help us with our dataset."
   ]
  },
  {
   "cell_type": "code",
   "execution_count": 17,
   "metadata": {},
   "outputs": [
    {
     "name": "stdout",
     "output_type": "stream",
     "text": [
      "Mean Squared Error (MSE) using 2-degree polynomial: 3.984434e+09\n",
      "Mean square error (MSE) of normal feature: 4.802174e+09\n",
      "Mean square error difference between 2-deg poly and normal feature: -817739135.31\n"
     ]
    }
   ],
   "source": [
    "model_polynomial_2 = LinearRegression()\n",
    "# Fit the model\n",
    "model_polynomial_2.fit(\n",
    "    X_poly_train,\n",
    "    train_ds_onehot[\"median_house_value\"],\n",
    ")\n",
    "# Predict the values\n",
    "predictions_polynomial_2 = model_polynomial_2.predict(\n",
    "    X_poly_test,\n",
    ")\n",
    "# Calculate the mean squared error\n",
    "mse_polynomial_2 = mean_squared_error(\n",
    "    test_ds_onehot[\"median_house_value\"],\n",
    "    predictions_polynomial_2,\n",
    ")\n",
    "print(f\"Mean Squared Error (MSE) using 2-degree polynomial: {mse_polynomial_2:e}\")\n",
    "print(f\"Mean square error (MSE) of normal feature: {mse_onehot:e}\")\n",
    "print(\n",
    "    f\"Mean square error difference between 2-deg poly and normal feature: {mse_polynomial_2 - mse_onehot:.2f}\"\n",
    ")"
   ]
  },
  {
   "cell_type": "markdown",
   "metadata": {},
   "source": [
    "Very good! 🎉 Indeed, we can see that using polynomial features can help with the performance of the model."
   ]
  },
  {
   "cell_type": "markdown",
   "metadata": {},
   "source": [
    "> 📚 **EXERCISE**\n",
    ">\n",
    "> - Try to use `PolynomialFeatures` with a degree of 3 - 5. (If your computer allows, try higher order polynomials. Do note that it becomes time-consuming.) How does the model perform?\n",
    "> - Observe the pattern from no polynomial features to high degree polynomial features. What do you think is happening? \n",
    "> - Hence, is it a good idea to use a high degree polynomial? Why or why not?"
   ]
  },
  {
   "cell_type": "code",
   "execution_count": 18,
   "metadata": {},
   "outputs": [],
   "source": [
    "# === Your code here ==="
   ]
  },
  {
   "cell_type": "markdown",
   "metadata": {},
   "source": [
    "> 🤔 **THINKING**\n",
    ">\n",
    "> Here is an excerpt from [Wikipedia](https://en.wikipedia.org/wiki/Bias%E2%80%93variance_tradeoff) about the bias-variance tradeoff:\n",
    "> \n",
    "> _\"The bias–variance dilemma or bias–variance problem is the conflict in trying to simultaneously minimize these two sources of error that prevent supervised learning algorithms from generalizing beyond their training set:_\n",
    ">\n",
    "> - *The bias error is an error from erroneous assumptions in the learning algorithm. High bias can cause an algorithm to miss the relevant relations between features and target outputs (underfitting).*\n",
    "> - *The variance is an error from sensitivity to small fluctuations in the training set. High variance may result from an algorithm modeling the random noise in the training data (overfitting).*\n",
    ">\n",
    "> By the exercise you just did, can you explain how bias-variance tradeoff is demonstrated in the polynomial regression example?"
   ]
  }
 ],
 "metadata": {
  "kernelspec": {
   "display_name": ".venv",
   "language": "python",
   "name": "python3"
  },
  "language_info": {
   "codemirror_mode": {
    "name": "ipython",
    "version": 3
   },
   "file_extension": ".py",
   "mimetype": "text/x-python",
   "name": "python",
   "nbconvert_exporter": "python",
   "pygments_lexer": "ipython3",
   "version": "3.13.2"
  }
 },
 "nbformat": 4,
 "nbformat_minor": 2
}
