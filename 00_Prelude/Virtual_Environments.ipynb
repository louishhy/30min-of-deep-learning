{
 "cells": [
  {
   "cell_type": "markdown",
   "metadata": {},
   "source": [
    "# Virtual environments"
   ]
  },
  {
   "cell_type": "markdown",
   "metadata": {},
   "source": [
    "## A scenario\n",
    "\n",
    "Imagine you would like to execute a certain Python script which relies on another library, like Numpy.\n",
    "\n",
    "You can, of course, `pip install numpy` without any problem.\n",
    "\n",
    "However, you could have scripts that is related to signal processing, graphical rendering... \n",
    "\n",
    "Suddenly, your global Python environment is filled with libraries that you don't need for a certain script.\n",
    "\n",
    "What's more, if you have two scripts, where `script1.py` relies on `v1.0` of `verygoodlib` library,\n",
    "while `script2.py` relies on `v2.0` which contains a breaking change,\n",
    "then, you should tweak the version of `verygoodlib` every time when you would like to execute a different script.\n",
    "how can you deal with this situation...?"
   ]
  },
  {
   "cell_type": "markdown",
   "metadata": {},
   "source": [
    "## Virtual environments\n",
    "\n",
    "**Virtual environments** can help you! \n",
    "\n",
    "Virtual environment is, according to official document, *\"a specific Python interpreter and software libraries and binaries which are needed to support a project (library or application)\"*. \n",
    "\n",
    "(For those of you that are interested, check [PEP405](https://peps.python.org/pep-0405/))\n",
    "\n",
    "With virtual environment, you can create two separate environments for `script1.py` and `script2.py`. You can install `v1.0` and `v2.0` of the `verygoodlib` library correspondingly in those two environments, and they will not intefere with each other."
   ]
  },
  {
   "cell_type": "markdown",
   "metadata": {},
   "source": [
    "## Reproducible environment\n",
    "\n",
    "As an extra bonus, virtual environments can also help you create a reproducible environment for your project.\n",
    "\n",
    "Suppose you would like to share your project with your friend.\n",
    "Instead of writing a list of libraries and their versions on your own, you can share the `requirements.txt` file, which contains the list of libraries and their versions, and your friend can create the same environment as you did."
   ]
  },
  {
   "cell_type": "markdown",
   "metadata": {},
   "source": [
    "## Exercise: Quick hands-on\n",
    "\n",
    "There are many libraries that can help you create virtual environments, including [virtualenv](https://virtualenv.pypa.io/en/latest/) or [poetry](https://python-poetry.org/).\n",
    "\n",
    "But in this tutorial suite, we will be using [Anaconda](https://www.anaconda.com/), which contains the `conda` package and virtual environment manager. It is one of the most popular tools for data science and machine learning community."
   ]
  },
  {
   "cell_type": "markdown",
   "metadata": {},
   "source": [
    "We will now create a virtual environment using `conda` for our tutorial suite."
   ]
  },
  {
   "cell_type": "markdown",
   "metadata": {},
   "source": [
    "### 1. Install anaconda\n",
    "Follow the instruction here to install Anaconda.\n",
    "\n",
    "- [Anaconda](https://www.anaconda.com/docs/getting-started/anaconda/install)\n",
    "- [Miniconda](https://www.anaconda.com/docs/getting-started/miniconda/install)\n",
    "\n",
    "Miniconda is a lightweight version of Anaconda and contains only the necessary packages for conda and its dependencies."
   ]
  },
  {
   "cell_type": "markdown",
   "metadata": {},
   "source": [
    "### 2. Creating and activating a conda environment\n",
    "\n",
    "Make sure you are in the root directory of this repository. (NOT THIS `00_Prelude` directory)\n",
    "\n",
    "Then run:\n",
    "```bash\n",
    "conda env create -n \"deeplearning-handson\" -f environment.yml\n",
    "```"
   ]
  },
  {
   "cell_type": "markdown",
   "metadata": {},
   "source": [
    "This command will create a new conda environment named `deeplearning-handson` and install all the necessary packages for this tutorial suite.\n",
    "\n",
    "As a bonus, if you want to create an empty environment:\n",
    "```bash\n",
    "conda create -n \"myenv\"\n",
    "```"
   ]
  },
  {
   "cell_type": "markdown",
   "metadata": {},
   "source": [
    "Finally, activate the environment:\n",
    "```bash\n",
    "conda activate deeplearning-handson\n",
    "```\n",
    "\n",
    "You should be able to see the environment name in your terminal prompt, something like:\n",
    "```bash\n",
    "(deeplearning-handson) user@machine:~$\n",
    "```\n",
    "\n",
    "You can deactivate the environment by running:\n",
    "```bash\n",
    "conda deactivate\n",
    "```"
   ]
  },
  {
   "cell_type": "markdown",
   "metadata": {},
   "source": [
    "### 3. Installing packages and freezing your environment\n",
    "\n",
    "If you would like to install a new package, you can do so by running:\n",
    "```bash\n",
    "conda install -n deeplearning-handson \"package_name\"\n",
    "```\n",
    "\n",
    "or if you are already in the environment:\n",
    "```bash\n",
    "conda install \"package_name\"\n",
    "```\n",
    "\n",
    "Sometimes, you would like to share the environment with your friend. You can do so by running:\n",
    "```bash\n",
    "conda env export > my_environment.yml\n",
    "```\n",
    "\n",
    "In fact, if you check the `environment.yml` file in this repository, you can see that it is a file that contains the list of libraries and their versions, just the same as the file you just created.\n",
    "\n",
    "> **Tip**: Freezing environment **_WITH VERSION_** is a good practice especially when you are working with a team or you want the project to be used for others. Data science libraries are updated frequently and sometimes the new version of the library can break your code."
   ]
  },
  {
   "cell_type": "markdown",
   "metadata": {},
   "source": [
    "### 4. Using the environment in Jupyter notebooks\n",
    "\n",
    "Jupyter notebooks, the one you are currently reading at, is a computational document that enables you to write code, visualize the result, and write text in a single document.\n",
    "\n",
    "To activate the conda environment you have just created in Jupyter notebook using VSCode, you can click on the `Select Kernel` button on the top right corner of the notebook and select the environment you have just created. It will look like\n",
    "```bash\n",
    "deeplearning-handson (Python 3.13.2) /opt/anaconda3/envs/deeplearning-handson/bin/python\n",
    "```"
   ]
  },
  {
   "cell_type": "markdown",
   "metadata": {},
   "source": [
    "Try run this code block!"
   ]
  },
  {
   "cell_type": "code",
   "execution_count": 1,
   "metadata": {},
   "outputs": [
    {
     "name": "stdout",
     "output_type": "stream",
     "text": [
      "Hello, world!\n"
     ]
    }
   ],
   "source": [
    "print(\"Hello, world!\")"
   ]
  }
 ],
 "metadata": {
  "kernelspec": {
   "display_name": "deeplearning-handson",
   "language": "python",
   "name": "python3"
  },
  "language_info": {
   "codemirror_mode": {
    "name": "ipython",
    "version": 3
   },
   "file_extension": ".py",
   "mimetype": "text/x-python",
   "name": "python",
   "nbconvert_exporter": "python",
   "pygments_lexer": "ipython3",
   "version": "3.13.2"
  }
 },
 "nbformat": 4,
 "nbformat_minor": 2
}
