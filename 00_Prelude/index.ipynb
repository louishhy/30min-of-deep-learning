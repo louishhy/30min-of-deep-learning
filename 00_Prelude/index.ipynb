{
 "cells": [
  {
   "cell_type": "markdown",
   "metadata": {},
   "source": [
    "# 0x00_Prelude\n",
    "\n",
    "Welcome to the deep learning hands-on tutorial suite!\n",
    "\n",
    "In this prelude module, instead of getting hands-on on the machine learning models, \n",
    "we would like to give an introduction about the tools we will be using."
   ]
  },
  {
   "cell_type": "markdown",
   "metadata": {},
   "source": [
    "We will be using Python ecosystem in our tutorial suite. \n",
    "Python is the current go-to language for exploratory data analysis, machine learning and deep learning\n",
    "because of its strong community support."
   ]
  },
  {
   "cell_type": "markdown",
   "metadata": {},
   "source": [
    "We will be introducing those basic concepts in this chapter very briefly,\n",
    "while guiding you to find the resources to learn them in details:"
   ]
  },
  {
   "cell_type": "markdown",
   "metadata": {},
   "source": [
    "### 1. Virtual environments\n",
    "\n",
    "An isolated execution environment that contains a set of library / binaries.\n",
    "\n",
    "We will introduce what virtual environment is, and then set up the virtual environment for this tutorial suite using `conda`."
   ]
  },
  {
   "cell_type": "markdown",
   "metadata": {},
   "source": [
    "### 2. Scientific computing and machine learning libraries\n",
    "\n",
    "We will give brief demo on the libraries we will be using throughout the tutorial suite, and point you to the resources to learn them in details.\n",
    "\n",
    "(Do note that for some specific topic we will invite you to install other libraries.)"
   ]
  },
  {
   "cell_type": "markdown",
   "metadata": {},
   "source": [
    "- PyTorch: The library for deep learning\n",
    "- Numpy / Scipy: Math library for Python\n",
    "- Pandas: The library for data analysis, especially tabular data.\n",
    "- Scikit-learn: The library for easily building machine learning models.\n",
    "- Matplotlib: The library for plotting\n",
    "- ..."
   ]
  },
  {
   "cell_type": "markdown",
   "metadata": {},
   "source": [
    "We will be introducing (1) and (2) in separate notebooks in the directory.\n",
    "\n",
    "> 💡 **TIPS**\n",
    "> \n",
    "> If you are already familiar with the concepts above, feel free to skip this module, \n",
    "> but remember to setup the execution environment for the tutorial suite!"
   ]
  }
 ],
 "metadata": {
  "kernelspec": {
   "display_name": "deeplearning-handson",
   "language": "python",
   "name": "python3"
  },
  "language_info": {
   "codemirror_mode": {
    "name": "ipython",
    "version": 3
   },
   "file_extension": ".py",
   "mimetype": "text/x-python",
   "name": "python",
   "nbconvert_exporter": "python",
   "pygments_lexer": "ipython3",
   "version": "3.13.2"
  }
 },
 "nbformat": 4,
 "nbformat_minor": 2
}
