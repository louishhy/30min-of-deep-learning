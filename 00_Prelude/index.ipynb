{
 "cells": [
  {
   "cell_type": "markdown",
   "metadata": {},
   "source": [
    "# 0x00_Prelude\n",
    "\n",
    "Welcome to the deep learning hands-on tutorial suite!\n",
    "\n",
    "In this prelude module, instead of getting hands-on on the machine learning models, \n",
    "we would like to give an introduction about the tools we will be using."
   ]
  },
  {
   "cell_type": "markdown",
   "metadata": {},
   "source": [
    "We will be using Python ecosystem in our tutorial suite. \n",
    "Python is the current go-to language for exploratory data analysis, machine learning and deep learning\n",
    "because of its strong community support."
   ]
  },
  {
   "cell_type": "markdown",
   "metadata": {},
   "source": [
    "We will be introducing those basic concepts in this chapter very briefly,\n",
    "while guiding you to find the resources to learn them in details:"
   ]
  },
  {
   "cell_type": "markdown",
   "metadata": {},
   "source": [
    "### 1. Virtual environments\n",
    "\n",
    "An isolated execution environment that contains a set of library / binaries.\n",
    "\n",
    "We will introduce what virtual environment is, and then set up the virtual environment for this tutorial suite using `Conda`.\n",
    "\n",
    "**Please read the supplement PDF:** [venv_for_python.pdf](venv_for_python.pdf)"
   ]
  },
  {
   "cell_type": "markdown",
   "metadata": {},
   "source": [
    "### 2. Scientific computing and machine learning libraries\n",
    "\n",
    "We will give brief demo on the libraries we will be using throughout the tutorial suite, and point you to the resources to learn them in details.\n",
    "\n",
    "(Do note that for some specific topic we will invite you to install other libraries.)"
   ]
  },
  {
   "cell_type": "markdown",
   "metadata": {},
   "source": [
    "- PyTorch: The library for deep learning\n",
    "- Numpy / Scipy: Math library for Python\n",
    "- Pandas: The library for data analysis, especially tabular data.\n",
    "- Scikit-learn: The library for easily building machine learning models.\n",
    "- Matplotlib: The library for plotting\n",
    "- ..."
   ]
  },
  {
   "cell_type": "markdown",
   "metadata": {},
   "source": [
    "### 3. Build virtual environment (Conda-based)\n",
    "\n",
    "In this section, we'll walk you through setting up your Python environment using **Miniconda**.  \n",
    "\n",
    "These commands are designed to work on **Linux 64-bit** systems.  \n",
    "\n",
    "If you're on Windows or macOS, please refer to [the official document](https://www.anaconda.com/docs/getting-started/miniconda/install) for alternative instructions."
   ]
  },
  {
   "cell_type": "markdown",
   "metadata": {},
   "source": [
    "#### 🧰 Step 1: Install Miniconda (Linux 64-bit)\n",
    "\n",
    "```bash\n",
    "mkdir -p ~/miniconda3\n",
    "wget https://repo.anaconda.com/miniconda/Miniconda3-latest-Linux-x86_64.sh -O ~/miniconda3/miniconda.sh\n",
    "bash ~/miniconda3/miniconda.sh -b -u -p ~/miniconda3\n",
    "```"
   ]
  },
  {
   "cell_type": "markdown",
   "metadata": {},
   "source": [
    "#### 🔧 Step 2: Initialize Conda (.bashrc)\n",
    "```bash\n",
    "source ~/miniconda3/bin/activate\n",
    "conda init --all\n",
    "echo 'export CONDA_AUTO_ACTIVATE_BASE=false' >> ~/.bashrc\n",
    "echo 'unset CONDA_SHLVL' >> ~/.bashrc\n",
    "source ~/.bashrc\n",
    "```"
   ]
  },
  {
   "cell_type": "markdown",
   "metadata": {},
   "source": [
    "#### 📦 Step 3: Create the virtual environment\n",
    "```bash\n",
    "# Execute this command in the root directory of the tutorial suite\n",
    "./setup_conda_env.sh\n",
    "```"
   ]
  },
  {
   "cell_type": "markdown",
   "metadata": {},
   "source": [
    "#### 🚀 Step 4: Select the kernel\n",
    "select the kernel for the Jupyter notebook to be `deeplearning-handson (Python 3.12.9)`"
   ]
  },
  {
   "cell_type": "markdown",
   "metadata": {},
   "source": [
    "Try run this code block!"
   ]
  },
  {
   "cell_type": "code",
   "execution_count": 1,
   "metadata": {},
   "outputs": [
    {
     "name": "stdout",
     "output_type": "stream",
     "text": [
      "Hello, world!\n"
     ]
    }
   ],
   "source": [
    "print(\"Hello, world!\")"
   ]
  },
  {
   "cell_type": "markdown",
   "metadata": {},
   "source": [
    "> 💡 **TIPS**\n",
    "> \n",
    "> If you are already familiar with the concepts above, feel free to skip this module, \n",
    "> but remember to setup the execution environment for the tutorial suite! (see [README.md](../README.md))"
   ]
  }
 ],
 "metadata": {
  "kernelspec": {
   "display_name": ".venv",
   "language": "python",
   "name": "python3"
  },
  "language_info": {
   "codemirror_mode": {
    "name": "ipython",
    "version": 3
   },
   "file_extension": ".py",
   "mimetype": "text/x-python",
   "name": "python",
   "nbconvert_exporter": "python",
   "pygments_lexer": "ipython3",
   "version": "3.12.9"
  }
 },
 "nbformat": 4,
 "nbformat_minor": 2
}
