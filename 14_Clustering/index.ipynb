{
 "cells": [
  {
   "cell_type": "markdown",
   "id": "89967831",
   "metadata": {},
   "source": [
    "# Clustering\n",
    "\n",
    "Clustering is a type of unsupervised learning that groups similar data points together. \n",
    "Unsupervised learning refers to the process of training a model on data without labeled responses (i.e. you do not know the $y$ for the input $x$).\n",
    "\n",
    "Because of this, clustering is often used for exploratory data analysis (EDA for short), \n",
    "which is the process of analyzing datasets to summarize their main statistical characteristics\n",
    "and pave the way for further modeling.\n",
    "\n",
    "Today we will cover two clustering algorithms:\n",
    "- K-Means\n",
    "- Gaussian Mixture Models (GMMs)"
   ]
  },
  {
   "cell_type": "markdown",
   "id": "51e19fb1",
   "metadata": {},
   "source": [
    "## 1. K-Means\n",
    "\n",
    "In a nutshell, K-means is a clustering algorithm that partitions data into $k$ clusters, \n",
    "where each data point is assigned to the cluster with the nearest mean.\n",
    "\n",
    "The [formal definition](https://en.wikipedia.org/wiki/K-means_clustering) goes:\n",
    "\n",
    "_Given a set of observations $(x_1, x_2, ..., x_n)$, $k$-means clustering aims to partition the $n$ observations into $k$ ($\\leq n$) sets $\\mathbf{S} = \\{S_1, S_2, ..., S_k\\}$ so as to minimize the within-cluster sum of squares (WCSS) (i.e. variance)._\n",
    "\n",
    "$$\n",
    "\\arg \\min_{\\mathbf{S}} \\sum_{i=1}^{k} \\sum_{\\mathbf{x} \\in S_i} \\|\\mathbf{x} - \\boldsymbol{\\mu}_i\\|^2\n",
    "$$\n",
    "\n",
    "_where $\\boldsymbol{\\mu}_i$ is the mean (also called centroid) of points in $S_i$, i.e._\n",
    "\n",
    "$$\\boldsymbol{\\mu}_i = \\frac{1}{|S_i|} \\sum_{\\mathbf{x} \\in S_i} \\mathbf{x},$$\n",
    "\n",
    "*$|S_i|$ is the size of $S_i$, and $\\| \\cdot \\|$ is the usual $L^2$ norm.*"
   ]
  },
  {
   "cell_type": "markdown",
   "id": "72bc388a",
   "metadata": {},
   "source": [
    "K-means can be easily used by `scikit-learn`.\n",
    "Let us use our Iris dataset to implement a demo for K-means clustering."
   ]
  }
 ],
 "metadata": {
  "kernelspec": {
   "display_name": ".venv",
   "language": "python",
   "name": "python3"
  },
  "language_info": {
   "codemirror_mode": {
    "name": "ipython",
    "version": 3
   },
   "file_extension": ".py",
   "mimetype": "text/x-python",
   "name": "python",
   "nbconvert_exporter": "python",
   "pygments_lexer": "ipython3",
   "version": "3.13.3"
  }
 },
 "nbformat": 4,
 "nbformat_minor": 5
}
