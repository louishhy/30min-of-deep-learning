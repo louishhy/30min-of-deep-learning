{
 "cells": [
  {
   "cell_type": "markdown",
   "metadata": {},
   "source": [
    "# 0x01 Density Estimation\n",
    "\n",
    "Density estimation refers to the task of modelling $p(x)$， given the observations $x_1, x_2, \\ldots, x_n$.\n",
    "\n",
    "Of course, this is an ill-posed problem, since we can always model a function, described as\n",
    "$$p(x) = \\sum_{i=1}^n \\delta(x - x_i)$$\n",
    "where $\\delta$ is the Dirac delta function:\n",
    "$$\\delta(x) = \\begin{cases} 0 & x \\neq 0 \\\\ +\\infty & x = 0 \\end{cases}$$\n",
    "\n",
    "This is a valid density, but it is not very useful. \n",
    "In fact, any $p(x)$ that is nonzero at $x_i$ is a valid density for the observations.\n",
    "We need to add more constraints or assumptions to the model.\n",
    "\n",
    "In this hands-on, we will experiment with two approaches to density estimation:\n",
    "1. **Parametric density estimation**: We assume a specific form for the density function, and we estimate the parameters of that function from the data.\n",
    "2. **Non-parametric density estimation**: We do not assume a specific form for the density function, but we use the data to estimate it directly."
   ]
  },
  {
   "cell_type": "markdown",
   "metadata": {},
   "source": [
    "## 1. Dataset\n",
    "\n",
    "We will start our tutorial using the simple yet classic dataset of the **Iris** flower.\n",
    "\n",
    "The dataset contains 150 samples of iris flowers, with 4 features (sepal length, sepal width, petal length, and petal width) and 3 classes (Setosa, Versicolor, and Virginica),\n",
    "which is presented in the R.A. Fisher's 1936 paper \"The use of multiple measurements in taxonomic problems\"."
   ]
  },
  {
   "cell_type": "markdown",
   "metadata": {},
   "source": [
    "> 💻 **LIBRARY**\n",
    "> \n",
    "> We will be using the `pandas` library,\n",
    ">\n",
    "> which is a powerful data analysis and manipulation library for Python (especially for tabular data).\n",
    ">\n",
    "> You can do along with the code below. But, if you are not comfortable with pandas, you can first check out the official tutorials:\n",
    "> - [10 minutes to pandas](https://pandas.pydata.org/pandas-docs/stable/user_guide/10min.html).\n",
    "> - [Getting started with pandas](https://pandas.pydata.org/docs/getting_started/intro_tutorials/)."
   ]
  },
  {
   "cell_type": "code",
   "execution_count": 2,
   "metadata": {},
   "outputs": [
    {
     "data": {
      "text/html": [
       "<div>\n",
       "<style scoped>\n",
       "    .dataframe tbody tr th:only-of-type {\n",
       "        vertical-align: middle;\n",
       "    }\n",
       "\n",
       "    .dataframe tbody tr th {\n",
       "        vertical-align: top;\n",
       "    }\n",
       "\n",
       "    .dataframe thead th {\n",
       "        text-align: right;\n",
       "    }\n",
       "</style>\n",
       "<table border=\"1\" class=\"dataframe\">\n",
       "  <thead>\n",
       "    <tr style=\"text-align: right;\">\n",
       "      <th></th>\n",
       "      <th>Id</th>\n",
       "      <th>SepalLengthCm</th>\n",
       "      <th>SepalWidthCm</th>\n",
       "      <th>PetalLengthCm</th>\n",
       "      <th>PetalWidthCm</th>\n",
       "      <th>Species</th>\n",
       "    </tr>\n",
       "  </thead>\n",
       "  <tbody>\n",
       "    <tr>\n",
       "      <th>0</th>\n",
       "      <td>1</td>\n",
       "      <td>5.1</td>\n",
       "      <td>3.5</td>\n",
       "      <td>1.4</td>\n",
       "      <td>0.2</td>\n",
       "      <td>Iris-setosa</td>\n",
       "    </tr>\n",
       "    <tr>\n",
       "      <th>1</th>\n",
       "      <td>2</td>\n",
       "      <td>4.9</td>\n",
       "      <td>3.0</td>\n",
       "      <td>1.4</td>\n",
       "      <td>0.2</td>\n",
       "      <td>Iris-setosa</td>\n",
       "    </tr>\n",
       "    <tr>\n",
       "      <th>2</th>\n",
       "      <td>3</td>\n",
       "      <td>4.7</td>\n",
       "      <td>3.2</td>\n",
       "      <td>1.3</td>\n",
       "      <td>0.2</td>\n",
       "      <td>Iris-setosa</td>\n",
       "    </tr>\n",
       "    <tr>\n",
       "      <th>3</th>\n",
       "      <td>4</td>\n",
       "      <td>4.6</td>\n",
       "      <td>3.1</td>\n",
       "      <td>1.5</td>\n",
       "      <td>0.2</td>\n",
       "      <td>Iris-setosa</td>\n",
       "    </tr>\n",
       "    <tr>\n",
       "      <th>4</th>\n",
       "      <td>5</td>\n",
       "      <td>5.0</td>\n",
       "      <td>3.6</td>\n",
       "      <td>1.4</td>\n",
       "      <td>0.2</td>\n",
       "      <td>Iris-setosa</td>\n",
       "    </tr>\n",
       "  </tbody>\n",
       "</table>\n",
       "</div>"
      ],
      "text/plain": [
       "   Id  SepalLengthCm  SepalWidthCm  PetalLengthCm  PetalWidthCm      Species\n",
       "0   1            5.1           3.5            1.4           0.2  Iris-setosa\n",
       "1   2            4.9           3.0            1.4           0.2  Iris-setosa\n",
       "2   3            4.7           3.2            1.3           0.2  Iris-setosa\n",
       "3   4            4.6           3.1            1.5           0.2  Iris-setosa\n",
       "4   5            5.0           3.6            1.4           0.2  Iris-setosa"
      ]
     },
     "execution_count": 2,
     "metadata": {},
     "output_type": "execute_result"
    }
   ],
   "source": [
    "import pandas as pd\n",
    "\n",
    "# Import data from the csv file\n",
    "iris_df = pd.read_csv('Iris.csv')\n",
    "\n",
    "# Display the first few rows of the data\n",
    "iris_df.head()"
   ]
  },
  {
   "cell_type": "markdown",
   "metadata": {},
   "source": [
    "## 2. Parametric Density Estimation\n",
    "\n",
    "Parametric density estimation assumes a specific form for the density function, and estimates the parameters of that function from the data.\n",
    "\n",
    "Before you do the estimation, you have to make an assumption about the form of the density function.\n",
    "\n",
    "Let us start by looking at `PetalLengthCm`, assuming that our data is **normally distributed**, i.e. it satisfies the following density function:\n",
    "\n",
    "$$p(x) = \\frac{1}{\\sqrt{2\\pi\\sigma^2}} \\exp\\left(-\\frac{(x - \\mu)^2}{2\\sigma^2}\\right)$$\n",
    "\n",
    "where $\\mu$ is the mean and $\\sigma$ is the standard deviation of the data.\n",
    "\n",
    "We then try to estimate the parameters $\\mu$ and $\\sigma$ from the data."
   ]
  },
  {
   "cell_type": "markdown",
   "metadata": {},
   "source": [
    "> 💻 **LIBRARY**\n",
    ">\n",
    "> [Scipy](https://scipy.org/) is a library dedicated to scientific computing,\n",
    ">\n",
    "> and has a wide range of functions for probability / statistics, signal processing, optimization, etc.\n",
    ">\n",
    "> We will use it to estimate the parameters of the normal distribution."
   ]
  },
  {
   "cell_type": "code",
   "execution_count": 3,
   "metadata": {},
   "outputs": [],
   "source": [
    "from scipy import stats\n",
    "\n",
    "# Fit the normal distribution to the data\n",
    "petal_length = iris_df['PetalLengthCm']\n",
    "mu, std = stats.norm.fit(petal_length)"
   ]
  },
  {
   "cell_type": "markdown",
   "metadata": {},
   "source": [
    "Now we have the $\\mu$, $\\sigma$ of the data.\n",
    "\n",
    "Let's plot the data and the estimated density function we have derived."
   ]
  },
  {
   "cell_type": "markdown",
   "metadata": {},
   "source": [
    "> 💻 **LIBRARY**\n",
    ">\n",
    "> We will use the `matplotlib` library to plot the data and the estimated density function.\n",
    ">\n",
    "> Matplotlib is a plotting library for Python and provides a MATLAB-like interface.\n",
    "> \n",
    "> For Python, the most common use is the `pyplot` module, which provides a MATLAB-like interface."
   ]
  },
  {
   "cell_type": "code",
   "execution_count": null,
   "metadata": {},
   "outputs": [
    {
     "data": {
      "image/png": "[encoded data removed]",
      "text/plain": [
       "<Figure size 640x480 with 1 Axes>"
      ]
     },
     "metadata": {},
     "output_type": "display_data"
    }
   ],
   "source": [
    "import matplotlib.pyplot as plt\n",
    "import numpy as np\n",
    "\n",
    "# Plot the histogram of the data\n",
    "plt.hist(petal_length, bins=30, density=True, alpha=0.6, color='g')\n",
    "# Get the current x-axis range\n",
    "xmin, xmax = plt.xlim()\n",
    "# Generate a linear space from xmin to xmax, with 100 points\n",
    "x = np.linspace(xmin, xmax, 100)\n",
    "# Calculate the PDF of the normal distribution\n",
    "p = stats.norm.pdf(x, mu, std)\n",
    "# Plot the PDF\n",
    "plt.plot(x, p, 'k', linewidth=2)\n",
    "title = \"Fit results: mu = %.2f,  std = %.2f\" % (mu, std)\n",
    "plt.title(title)\n",
    "plt.xlabel('Petal Length (cm)')\n",
    "plt.ylabel('Density')\n",
    "plt.show()"
   ]
  },
  {
   "cell_type": "markdown",
   "metadata": {},
   "source": [
    "> 🤔 **THINKING**\n",
    ">\n",
    "> - Does our approach provide a good fit for the data? Why?\n",
    "> - Hence, what is a possible limitation of the parametric density estimation?\n",
    "> - What can we do to improve our assumption process?"
   ]
  },
  {
   "cell_type": "markdown",
   "metadata": {},
   "source": [
    "Testing is a way to validate our assumption about our distribution.\n",
    "\n",
    "Although a sophisticated domain in probability and statistics,\n",
    "various tests can help us to validate our assumption before we fit the model.\n",
    "\n",
    "For the petal length, let's run a **Shapiro-wilk test**. It is a test to reveal how confident we are about our assumption of normality."
   ]
  },
  {
   "cell_type": "code",
   "execution_count": 5,
   "metadata": {},
   "outputs": [
    {
     "name": "stdout",
     "output_type": "stream",
     "text": [
      "Statistics=0.8764246351886722, p-value=7.545419569615864e-10\n"
     ]
    }
   ],
   "source": [
    "# Perform the Shapiro-Wilk test for normality\n",
    "stat, p_shapiro = stats.shapiro(petal_length)\n",
    "\n",
    "print(f'Statistics={stat}, p-value={p_shapiro}')"
   ]
  },
  {
   "cell_type": "markdown",
   "metadata": {},
   "source": [
    "`p_shapiro` is the **p-value** of the test.\n",
    "\n",
    "In a loose manner, **p-value** means the probability of observing the data given the **null hypothesis** (which is _\"the hypothesis we would like to reject\"_) is true.\n",
    "\n",
    "For Shapiro-wilk test, the **null hypothesis** is that the data is normally distributed.\n",
    "\n",
    "So, we say that, the probability of the data being normally distributed is at the scale of $10^{-10}$.\n",
    "This is a very low probability, so we can confidently say that the data is **NOT** normally distributed."
   ]
  },
  {
   "cell_type": "markdown",
   "metadata": {},
   "source": [
    "> 📚 **EXERCISE**\n",
    ">\n",
    "> How about the sepal width (`SepalWidthCm`)? Does it fit nicely into a normal distribution?\n",
    ">\n",
    "> Try work out your own analysis!"
   ]
  },
  {
   "cell_type": "code",
   "execution_count": null,
   "metadata": {},
   "outputs": [],
   "source": [
    "# === Your code here ==="
   ]
  }
 ],
 "metadata": {
  "kernelspec": {
   "display_name": "dl-handson",
   "language": "python",
   "name": "python3"
  },
  "language_info": {
   "codemirror_mode": {
    "name": "ipython",
    "version": 3
   },
   "file_extension": ".py",
   "mimetype": "text/x-python",
   "name": "python",
   "nbconvert_exporter": "python",
   "pygments_lexer": "ipython3",
   "version": "3.12.9"
  }
 },
 "nbformat": 4,
 "nbformat_minor": 2
}
