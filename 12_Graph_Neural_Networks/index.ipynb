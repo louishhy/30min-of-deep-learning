{
 "cells": [
  {
   "cell_type": "markdown",
   "id": "9660aee4",
   "metadata": {},
   "source": [
    "# Graph Neural Networks\n",
    "\n"
   ]
  },
  {
   "cell_type": "markdown",
   "id": "be52748d",
   "metadata": {},
   "source": [
    "Today we will have a hands-on with Graph Neural Networks and PyG,\n",
    "a popular library for Graph Neural Networks (GNNs).\n",
    "\n",
    "In this notebook, you will explore:\n",
    "- What does a graph dataset look like?\n",
    "- Experience with GCNs and GATs\n",
    "- Observe oversmoothing phenomenon in GNNs"
   ]
  },
  {
   "cell_type": "markdown",
   "id": "96d972c7",
   "metadata": {},
   "source": [
    "## 1. Knowing PyG and the dataset\n",
    "PyG is a library that is built on top of PyTorch and provides a set of tools to work with graph neural networks."
   ]
  },
  {
   "cell_type": "code",
   "execution_count": 1,
   "id": "d5e67194",
   "metadata": {},
   "outputs": [
    {
     "name": "stdout",
     "output_type": "stream",
     "text": [
      "2.6.1\n"
     ]
    }
   ],
   "source": [
    "import torch_geometric\n",
    "\n",
    "print(torch_geometric.__version__)"
   ]
  },
  {
   "cell_type": "code",
   "execution_count": 2,
   "id": "b2aed6e7",
   "metadata": {},
   "outputs": [],
   "source": [
    "# Lock random seeds\n",
    "torch_geometric.seed_everything(42)"
   ]
  },
  {
   "cell_type": "markdown",
   "id": "4f626eaf",
   "metadata": {},
   "source": [
    "As you may have learnt from discrete mathematics, a graph is a collection of nodes $V$ and edges $E$.\n",
    "\n",
    "Let us observe how PyG expresses a graph.\n",
    "\n",
    "Have you ever purchased a product online?\n",
    "You may sometimes notice that some products are usually purchased together.\n",
    "This could be a good cue for a recommendation system.\n",
    "\n",
    "The `Amazon` dataset integrated in PyG is a collection of products as nodes, and edges mean that two products are usually purchased together. The feature of each node is the product review text.\n",
    "\n",
    "> _\"The Amazon Computers and Amazon Photo networks from the “Pitfalls of Graph Neural Network Evaluation” paper. Nodes represent goods and edges represent that two goods are frequently bought together. Given product reviews as bag-of-words node features, the task is to map goods to their respective product category.\"_\n",
    ">\n",
    "> -- PyG [Amazon](https://pytorch-geometric.readthedocs.io/en/2.6.1/generated/torch_geometric.datasets.Amazon.html#torch_geometric.datasets.Amazon) documentation"
   ]
  },
  {
   "cell_type": "markdown",
   "id": "a41388d1",
   "metadata": {},
   "source": [
    "Let's take a look at the Amazon computers dataset."
   ]
  },
  {
   "cell_type": "code",
   "execution_count": 3,
   "id": "cc69ad23",
   "metadata": {},
   "outputs": [],
   "source": [
    "# Load the dataset\n",
    "import torch_geometric.datasets\n",
    "\n",
    "dataset = torch_geometric.datasets.Amazon(\n",
    "    root=\"data/Amazon\",\n",
    "    name=\"Computers\",\n",
    ")"
   ]
  },
  {
   "cell_type": "code",
   "execution_count": 4,
   "id": "feae0ba8",
   "metadata": {},
   "outputs": [],
   "source": [
    "data = dataset[0] # The dataset contains only one graph"
   ]
  },
  {
   "cell_type": "code",
   "execution_count": 5,
   "id": "5c65e336",
   "metadata": {},
   "outputs": [
    {
     "name": "stdout",
     "output_type": "stream",
     "text": [
      "Number of nodes: 13752\n",
      "Number of edges: 491722\n",
      "Number of node features: 767\n",
      "Number of edge features: 0\n",
      "Number of classes: 10\n"
     ]
    }
   ],
   "source": [
    "# Take a look at the data shape\n",
    "print(f\"Number of nodes: {data.num_nodes}\")\n",
    "print(f\"Number of edges: {data.num_edges}\")\n",
    "print(f\"Number of node features: {data.num_node_features}\")\n",
    "print(f\"Number of edge features: {data.num_edge_features}\")\n",
    "print(f\"Number of classes: {dataset.num_classes}\")"
   ]
  },
  {
   "cell_type": "markdown",
   "id": "e53c3337",
   "metadata": {},
   "source": [
    "In PyG, the node features are accessed through the `x` attribute, and the edges are accessed through the `edge_index` attribute."
   ]
  },
  {
   "cell_type": "code",
   "execution_count": 6,
   "id": "30e39fed",
   "metadata": {},
   "outputs": [
    {
     "name": "stdout",
     "output_type": "stream",
     "text": [
      "Node feature shape: torch.Size([13752, 767])\n",
      "Edge index shape: torch.Size([2, 491722])\n"
     ]
    }
   ],
   "source": [
    "print(f\"Node feature shape: {data.x.shape}\")\n",
    "print(f\"Edge index shape: {data.edge_index.shape}\")"
   ]
  },
  {
   "cell_type": "code",
   "execution_count": 7,
   "id": "959edf9a",
   "metadata": {},
   "outputs": [
    {
     "name": "stdout",
     "output_type": "stream",
     "text": [
      "Edge index: tensor([  0, 507])\n"
     ]
    }
   ],
   "source": [
    "# Get one edge index to have a look\n",
    "print(f\"Edge index: {data.edge_index[:, 0]}\")"
   ]
  },
  {
   "cell_type": "markdown",
   "id": "aefe08ea",
   "metadata": {},
   "source": [
    "It is sometimes troublesome to inspect a graph with index numbers.\n",
    "An interesting package usually used for visualizing a graph is `networkx`.\n",
    "\n",
    "It works well with PyG. (Actually PyG provides a utility function called `to_networkx` to convert a PyG graph to a networkx graph.)"
   ]
  },
  {
   "cell_type": "code",
   "execution_count": 8,
   "id": "9627936f",
   "metadata": {},
   "outputs": [],
   "source": [
    "import networkx as nx\n",
    "import torch_geometric.utils\n",
    "import matplotlib.pyplot as plt\n",
    "import numpy as np\n",
    "import torch\n",
    "import random\n",
    "\n",
    "def visualize_subgraph_largest_cc(data, num_nodes=100, seed=42):\n",
    "    \"\"\"\n",
    "    Sample a subgraph from the original graph and visualize the largest connected component.\n",
    "    \n",
    "    Args:\n",
    "        data: PyTorch Geometric Data object\n",
    "        num_nodes: Number of nodes to include in the subgraph\n",
    "        seed: Random seed for reproducibility\n",
    "    \"\"\"\n",
    "    # Set random seeds for reproducibility\n",
    "    random.seed(seed)\n",
    "    np.random.seed(seed)\n",
    "    torch.manual_seed(seed)\n",
    "    \n",
    "    # Convert to NetworkX graph\n",
    "    g = torch_geometric.utils.to_networkx(data, to_undirected=True)\n",
    "    \n",
    "    # Get total number of nodes\n",
    "    total_nodes = g.number_of_nodes()\n",
    "    print(f\"Total nodes in graph: {total_nodes}\")\n",
    "    print(f\"Total edges in graph: {g.number_of_edges()}\")\n",
    "    \n",
    "    # Ensure we don't sample more nodes than available\n",
    "    num_nodes = min(num_nodes, total_nodes)\n",
    "    \n",
    "    # Sample random nodes\n",
    "    sampled_nodes = random.sample(list(g.nodes()), num_nodes)\n",
    "    \n",
    "    # Extract the subgraph\n",
    "    subgraph = g.subgraph(sampled_nodes)\n",
    "    \n",
    "    # Further reduce by keeping only the largest connected component\n",
    "    largest_cc = max(nx.connected_components(subgraph), key=len)\n",
    "    largest_cc_subgraph = g.subgraph(largest_cc)\n",
    "    \n",
    "    print(f\"Sampled subgraph has {largest_cc_subgraph.number_of_nodes()} nodes and {largest_cc_subgraph.number_of_edges()} edges\")\n",
    "    \n",
    "    # Create figure with a decent size\n",
    "    plt.figure(figsize=(5, 4))\n",
    "    \n",
    "    # Use a more sophisticated layout for better visualization\n",
    "    pos = nx.spring_layout(largest_cc_subgraph, seed=seed)\n",
    "    \n",
    "    # Draw the graph with customized appearance\n",
    "    nx.draw_networkx(\n",
    "        largest_cc_subgraph,\n",
    "        pos=pos,\n",
    "        node_size=50,\n",
    "        alpha=0.8,\n",
    "        with_labels=True,\n",
    "        font_color='gray'\n",
    "    )\n",
    "    \n",
    "    plt.title(f\"Amazon Dataset - Sample of {largest_cc_subgraph.number_of_nodes()} nodes\")\n",
    "    plt.axis('off')\n",
    "    plt.tight_layout()\n",
    "    plt.show()"
   ]
  },
  {
   "cell_type": "code",
   "execution_count": 9,
   "id": "ade8dee6",
   "metadata": {},
   "outputs": [
    {
     "name": "stdout",
     "output_type": "stream",
     "text": [
      "Total nodes in graph: 13752\n",
      "Total edges in graph: 245861\n",
      "Sampled subgraph has 16 nodes and 18 edges\n"
     ]
    },
    {
     "data": {
      "image/png": "[encoded data removed]",
      "text/plain": [
       "<Figure size 500x400 with 1 Axes>"
      ]
     },
     "metadata": {},
     "output_type": "display_data"
    }
   ],
   "source": [
    "visualize_subgraph_largest_cc(data, num_nodes=200)"
   ]
  },
  {
   "cell_type": "markdown",
   "id": "659d680e",
   "metadata": {},
   "source": [
    "## 2. Train a GNN yourself\n",
    "\n",
    "Now we have the dataset, let's train a GNN on it!\n",
    "\n",
    "We will first try Graph Convolutional Networks (GCNs). Similar to PyTorch, PyG provides common GNN layers out-of-the-box."
   ]
  },
  {
   "cell_type": "markdown",
   "id": "ddb6e193",
   "metadata": {},
   "source": [
    "First of all, we have to split the dataset into train and test sets.\n",
    "\n",
    "In the graph context, we split a portion of the nodes for training, validation, and testing."
   ]
  },
  {
   "cell_type": "code",
   "execution_count": 10,
   "id": "e0561e4d",
   "metadata": {},
   "outputs": [],
   "source": [
    "from torch_geometric.transforms import RandomNodeSplit\n",
    "\n",
    "# The RandomNodeSplit transform is used to split the dataset into train, validation, and test sets.\n",
    "node_transform = RandomNodeSplit(\n",
    "    num_val=0.1,\n",
    "    num_test=0.2,\n",
    ")\n",
    "# Apply the transform to the dataset\n",
    "splitted_data = node_transform(data)"
   ]
  },
  {
   "cell_type": "markdown",
   "id": "546888b5",
   "metadata": {},
   "source": [
    "You will now see that, the splitted data has masks for train, validation, and test sets."
   ]
  },
  {
   "cell_type": "code",
   "execution_count": 11,
   "id": "63e2a019",
   "metadata": {},
   "outputs": [
    {
     "name": "stdout",
     "output_type": "stream",
     "text": [
      "Number of training nodes: 9627\n",
      "Number of validation nodes: 1375\n",
      "Number of test nodes: 2750\n"
     ]
    }
   ],
   "source": [
    "print(f\"Number of training nodes: {splitted_data.train_mask.sum()}\")\n",
    "print(f\"Number of validation nodes: {splitted_data.val_mask.sum()}\")\n",
    "print(f\"Number of test nodes: {splitted_data.test_mask.sum()}\")"
   ]
  },
  {
   "cell_type": "markdown",
   "id": "185fa089",
   "metadata": {},
   "source": [
    "Let's go! We can first define a simple GCN that has two convolutional layers."
   ]
  },
  {
   "cell_type": "code",
   "execution_count": 12,
   "id": "6562770d",
   "metadata": {},
   "outputs": [],
   "source": [
    "import torch\n",
    "import torch.nn.functional as F\n",
    "from torch_geometric.nn import GCNConv\n",
    "\n",
    "class GCN(torch.nn.Module):\n",
    "    def __init__(self, in_channels, hidden_channels, out_channels):\n",
    "        super().__init__()\n",
    "        self.conv1 = GCNConv(in_channels, hidden_channels)\n",
    "        self.conv2 = GCNConv(hidden_channels, out_channels)\n",
    "\n",
    "    def forward(self, x, edge_index):\n",
    "        x = self.conv1(x, edge_index)\n",
    "        x = F.relu(x)\n",
    "        x = F.dropout(x, p=0.5, training=self.training)\n",
    "        x = self.conv2(x, edge_index)\n",
    "        return x"
   ]
  },
  {
   "cell_type": "markdown",
   "id": "b549eb29",
   "metadata": {},
   "source": [
    "The number of input features can be acquired from the dataset.\n",
    "\n",
    "For the hidden channels, we pick a 256-dimensional hidden layer\n",
    "(in reality, you should do experimentation to find the best hyperparameters instead of randomly picking one)."
   ]
  },
  {
   "cell_type": "code",
   "execution_count": 13,
   "id": "14afa99c",
   "metadata": {},
   "outputs": [
    {
     "name": "stdout",
     "output_type": "stream",
     "text": [
      "GCN(\n",
      "  (conv1): GCNConv(767, 256)\n",
      "  (conv2): GCNConv(256, 10)\n",
      ")\n"
     ]
    }
   ],
   "source": [
    "gcn_model = GCN(\n",
    "    in_channels=dataset.num_node_features,\n",
    "    hidden_channels=256,\n",
    "    out_channels=dataset.num_classes,\n",
    ")\n",
    "\n",
    "print(gcn_model)"
   ]
  },
  {
   "cell_type": "markdown",
   "id": "e7004530",
   "metadata": {},
   "source": [
    "Let's now write the training loop.\n",
    "\n",
    "It is very similar to the PyTorch ones you have seen in previous notebooks."
   ]
  },
  {
   "cell_type": "code",
   "execution_count": 14,
   "id": "c6fd9e26",
   "metadata": {},
   "outputs": [],
   "source": [
    "gcn_optimizer = torch.optim.Adam(gcn_model.parameters(), lr=0.01, weight_decay=5e-4)\n",
    "gcn_criterion = torch.nn.CrossEntropyLoss()\n",
    "\n",
    "def train_gcn(model, data, optimizer, criterion):\n",
    "    model.train()\n",
    "    optimizer.zero_grad()  # Clear gradients\n",
    "    out = model(data.x, data.edge_index)  # Forward pass\n",
    "    loss = criterion(out[data.train_mask], data.y[data.train_mask])  # Compute loss\n",
    "    loss.backward()  # Backward pass\n",
    "    optimizer.step()  # Update weights\n",
    "    return loss.item()\n",
    "\n",
    "def test_gcn(model, data):\n",
    "    model.eval()\n",
    "    with torch.no_grad():\n",
    "        out = model(data.x, data.edge_index)\n",
    "        pred = out.argmax(dim=1)  # Get the predicted class\n",
    "        test_acc = (pred[data.test_mask] == data.y[data.test_mask]).sum().item() / data.test_mask.sum().item()\n",
    "        val_acc = (pred[data.val_mask] == data.y[data.val_mask]).sum().item() / data.val_mask.sum().item()\n",
    "    return test_acc, val_acc"
   ]
  },
  {
   "cell_type": "code",
   "execution_count": 15,
   "id": "5abb27d3",
   "metadata": {},
   "outputs": [
    {
     "name": "stdout",
     "output_type": "stream",
     "text": [
      "Using device: cpu\n",
      "Epoch 0: Loss: 2.4119, Validation Accuracy: 0.3927, Test Accuracy: 0.3756\n",
      "Epoch 10: Loss: 2.2264, Validation Accuracy: 0.1447, Test Accuracy: 0.1549\n",
      "Epoch 20: Loss: 1.5540, Validation Accuracy: 0.6291, Test Accuracy: 0.6218\n",
      "Epoch 30: Loss: 1.0748, Validation Accuracy: 0.7251, Test Accuracy: 0.7324\n",
      "Epoch 40: Loss: 0.7553, Validation Accuracy: 0.8211, Test Accuracy: 0.7978\n",
      "Epoch 50: Loss: 0.5945, Validation Accuracy: 0.8553, Test Accuracy: 0.8440\n",
      "Epoch 60: Loss: 0.5325, Validation Accuracy: 0.8691, Test Accuracy: 0.8604\n",
      "Epoch 70: Loss: 0.4739, Validation Accuracy: 0.8749, Test Accuracy: 0.8705\n",
      "Epoch 80: Loss: 0.4304, Validation Accuracy: 0.8851, Test Accuracy: 0.8749\n",
      "Epoch 90: Loss: 0.4026, Validation Accuracy: 0.8807, Test Accuracy: 0.8742\n"
     ]
    }
   ],
   "source": [
    "# Run the training loop\n",
    "num_epochs = 100\n",
    "\n",
    "# Migrate to GPU if available\n",
    "device = torch.device('cuda' if torch.cuda.is_available() else 'cpu')\n",
    "print(f\"Using device: {device}\")\n",
    "gcn_model = gcn_model.to(device)\n",
    "splitted_data = splitted_data.to(device)\n",
    "\n",
    "# Prepare logs\n",
    "gcn_train_logs = []\n",
    "gcn_val_logs = []\n",
    "gcn_test_logs = []\n",
    "\n",
    "for epoch in range(num_epochs):\n",
    "    loss = train_gcn(gcn_model, splitted_data, gcn_optimizer, gcn_criterion)\n",
    "    test_acc, val_acc = test_gcn(gcn_model, splitted_data)\n",
    "    gcn_train_logs.append(loss)\n",
    "    gcn_val_logs.append(val_acc)\n",
    "    gcn_test_logs.append(test_acc)\n",
    "    \n",
    "    if epoch % 10 == 0:\n",
    "        print(f\"Epoch {epoch}: Loss: {loss:.4f}, Validation Accuracy: {val_acc:.4f}, Test Accuracy: {test_acc:.4f}\")"
   ]
  },
  {
   "cell_type": "code",
   "execution_count": 18,
   "id": "1760677f",
   "metadata": {},
   "outputs": [
    {
     "data": {
      "image/png": "[encoded data removed]",
      "text/plain": [
       "<Figure size 1000x500 with 2 Axes>"
      ]
     },
     "metadata": {},
     "output_type": "display_data"
    }
   ],
   "source": [
    "# Plot the training loss and test accuracy\n",
    "plt.figure(figsize=(10, 5))\n",
    "plt.subplot(1, 2, 1)\n",
    "plt.plot(gcn_train_logs, label='Training Loss')\n",
    "plt.title('Training Loss')\n",
    "plt.xlabel('Epoch')\n",
    "plt.ylabel('Loss')\n",
    "plt.legend()\n",
    "plt.subplot(1, 2, 2)\n",
    "plt.plot(gcn_test_logs, label='Test Accuracy', color='orange')\n",
    "plt.title('Test Accuracy')\n",
    "plt.xlabel('Epoch')\n",
    "plt.ylabel('Accuracy')\n",
    "plt.legend()\n",
    "plt.tight_layout()\n",
    "plt.show()"
   ]
  },
  {
   "cell_type": "markdown",
   "id": "34841d2f",
   "metadata": {},
   "source": [
    "> 📚 **EXERCISE**\n",
    ">\n",
    "> Another model you can try is the Graph Attention Network (GAT). GAT learns attention weights for each node's neighbors, allowing it to focus on more important connections and potentially ignore noisy or irrelevant ones. (Recall the previous Transformer notebook about the attention mechanism.)\n",
    ">\n",
    "> Similar to GCN, it is also implemented in PyG:\n",
    "> ```python\n",
    "> from torch_geometric.nn import GATConv\n",
    "> ...\n",
    "> self.conv1 = GATConv(in_channels, hidden_channels, heads=<number of heads>)\n",
    "> ```\n",
    ">\n",
    "> Mimic the previous GCN code and implement a GAT model. Compare the results with GCN."
   ]
  }
 ],
 "metadata": {
  "kernelspec": {
   "display_name": ".venv",
   "language": "python",
   "name": "python3"
  },
  "language_info": {
   "codemirror_mode": {
    "name": "ipython",
    "version": 3
   },
   "file_extension": ".py",
   "mimetype": "text/x-python",
   "name": "python",
   "nbconvert_exporter": "python",
   "pygments_lexer": "ipython3",
   "version": "3.13.1"
  }
 },
 "nbformat": 4,
 "nbformat_minor": 5
}
