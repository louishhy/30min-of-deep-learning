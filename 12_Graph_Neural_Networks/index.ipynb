{
 "cells": [
  {
   "cell_type": "markdown",
   "id": "9660aee4",
   "metadata": {},
   "source": [
    "# Graph Neural Networks\n",
    "\n"
   ]
  },
  {
   "cell_type": "markdown",
   "id": "be52748d",
   "metadata": {},
   "source": [
    "Today we will have a hands-on with Graph Neural Networks and PyG,\n",
    "a popular library for Graph Neural Networks (GNNs).\n",
    "\n",
    "In this notebook, you will explore:\n",
    "- What does a graph dataset look like?\n",
    "- Experience with GCNs and GATs\n",
    "- Observe oversmoothing phenomenon in GNNs"
   ]
  },
  {
   "cell_type": "markdown",
   "id": "96d972c7",
   "metadata": {},
   "source": [
    "## 1. Knowing PyG and the dataset\n",
    "PyG is a library that is built on top of PyTorch and provides a set of tools to work with graph neural networks."
   ]
  },
  {
   "cell_type": "code",
   "execution_count": 1,
   "id": "d5e67194",
   "metadata": {},
   "outputs": [
    {
     "name": "stdout",
     "output_type": "stream",
     "text": [
      "2.6.1\n"
     ]
    }
   ],
   "source": [
    "import torch_geometric\n",
    "\n",
    "print(torch_geometric.__version__)"
   ]
  },
  {
   "cell_type": "markdown",
   "id": "4f626eaf",
   "metadata": {},
   "source": [
    "As you may have learnt from discrete mathematics, a graph is a collection of nodes $V$ and edges $E$.\n",
    "\n",
    "Let us observe how PyG expresses a graph.\n",
    "\n",
    "Have you ever purchased a product online?\n",
    "You may sometimes notice that some products are usually purchased together.\n",
    "This could be a good cue for a recommendation system.\n",
    "\n",
    "The `Amazon` dataset integrated in PyG is a collection of products as nodes, and edges mean that two products are usually purchased together. The feature of each node is the product review text.\n",
    "\n",
    "> _\"The Amazon Computers and Amazon Photo networks from the “Pitfalls of Graph Neural Network Evaluation” paper. Nodes represent goods and edges represent that two goods are frequently bought together. Given product reviews as bag-of-words node features, the task is to map goods to their respective product category.\"_\n",
    ">\n",
    "> -- PyG [Amazon](https://pytorch-geometric.readthedocs.io/en/2.6.1/generated/torch_geometric.datasets.Amazon.html#torch_geometric.datasets.Amazon) documentation"
   ]
  },
  {
   "cell_type": "markdown",
   "id": "a41388d1",
   "metadata": {},
   "source": [
    "Let's take a look at the Amazon computers dataset."
   ]
  },
  {
   "cell_type": "code",
   "execution_count": 2,
   "id": "cc69ad23",
   "metadata": {},
   "outputs": [],
   "source": [
    "# Load the dataset\n",
    "import torch_geometric.datasets\n",
    "\n",
    "dataset = torch_geometric.datasets.Amazon(\n",
    "    root=\"data/Amazon\",\n",
    "    name=\"Computers\",\n",
    ")"
   ]
  },
  {
   "cell_type": "code",
   "execution_count": 3,
   "id": "feae0ba8",
   "metadata": {},
   "outputs": [],
   "source": [
    "data = dataset[0] # The dataset contains only one graph"
   ]
  },
  {
   "cell_type": "code",
   "execution_count": 4,
   "id": "5c65e336",
   "metadata": {},
   "outputs": [
    {
     "name": "stdout",
     "output_type": "stream",
     "text": [
      "Number of nodes: 13752\n",
      "Number of edges: 491722\n",
      "Number of node features: 767\n",
      "Number of edge features: 0\n",
      "Number of classes: 10\n"
     ]
    }
   ],
   "source": [
    "# Take a look at the data shape\n",
    "print(f\"Number of nodes: {data.num_nodes}\")\n",
    "print(f\"Number of edges: {data.num_edges}\")\n",
    "print(f\"Number of node features: {data.num_node_features}\")\n",
    "print(f\"Number of edge features: {data.num_edge_features}\")\n",
    "print(f\"Number of classes: {dataset.num_classes}\")"
   ]
  },
  {
   "cell_type": "markdown",
   "id": "e53c3337",
   "metadata": {},
   "source": [
    "In PyG, the node features are accessed through the `x` attribute, and the edges are accessed through the `edge_index` attribute."
   ]
  },
  {
   "cell_type": "code",
   "execution_count": 5,
   "id": "30e39fed",
   "metadata": {},
   "outputs": [
    {
     "name": "stdout",
     "output_type": "stream",
     "text": [
      "Node feature shape: torch.Size([13752, 767])\n",
      "Edge index shape: torch.Size([2, 491722])\n"
     ]
    }
   ],
   "source": [
    "print(f\"Node feature shape: {data.x.shape}\")\n",
    "print(f\"Edge index shape: {data.edge_index.shape}\")"
   ]
  },
  {
   "cell_type": "code",
   "execution_count": null,
   "id": "959edf9a",
   "metadata": {},
   "outputs": [
    {
     "name": "stdout",
     "output_type": "stream",
     "text": [
      "Edge index: tensor([  0, 507])\n"
     ]
    }
   ],
   "source": [
    "# Get one edge index to have a look\n",
    "print(f\"Edge index: {data.edge_index[:, 0]}\")"
   ]
  },
  {
   "cell_type": "markdown",
   "id": "aefe08ea",
   "metadata": {},
   "source": [
    "It is sometimes troublesome to inspect a graph with index numbers.\n",
    "An interesting package usually used for visualizing a graph is `networkx`.\n",
    "\n",
    "It works well with PyG. (Actually PyG provides a utility function called `to_networkx` to convert a PyG graph to a networkx graph.)"
   ]
  },
  {
   "cell_type": "code",
   "execution_count": 30,
   "id": "9627936f",
   "metadata": {},
   "outputs": [],
   "source": [
    "import networkx as nx\n",
    "import torch_geometric.utils\n",
    "import matplotlib.pyplot as plt\n",
    "import numpy as np\n",
    "import torch\n",
    "import random\n",
    "\n",
    "def visualize_subgraph_largest_cc(data, num_nodes=100, seed=42):\n",
    "    \"\"\"\n",
    "    Sample a subgraph from the original graph and visualize the largest connected component.\n",
    "    \n",
    "    Args:\n",
    "        data: PyTorch Geometric Data object\n",
    "        num_nodes: Number of nodes to include in the subgraph\n",
    "        seed: Random seed for reproducibility\n",
    "    \"\"\"\n",
    "    # Set random seeds for reproducibility\n",
    "    random.seed(seed)\n",
    "    np.random.seed(seed)\n",
    "    torch.manual_seed(seed)\n",
    "    \n",
    "    # Convert to NetworkX graph\n",
    "    g = torch_geometric.utils.to_networkx(data, to_undirected=True)\n",
    "    \n",
    "    # Get total number of nodes\n",
    "    total_nodes = g.number_of_nodes()\n",
    "    print(f\"Total nodes in graph: {total_nodes}\")\n",
    "    print(f\"Total edges in graph: {g.number_of_edges()}\")\n",
    "    \n",
    "    # Ensure we don't sample more nodes than available\n",
    "    num_nodes = min(num_nodes, total_nodes)\n",
    "    \n",
    "    # Sample random nodes\n",
    "    sampled_nodes = random.sample(list(g.nodes()), num_nodes)\n",
    "    \n",
    "    # Extract the subgraph\n",
    "    subgraph = g.subgraph(sampled_nodes)\n",
    "    \n",
    "    # Further reduce by keeping only the largest connected component\n",
    "    largest_cc = max(nx.connected_components(subgraph), key=len)\n",
    "    largest_cc_subgraph = g.subgraph(largest_cc)\n",
    "    \n",
    "    print(f\"Sampled subgraph has {largest_cc_subgraph.number_of_nodes()} nodes and {largest_cc_subgraph.number_of_edges()} edges\")\n",
    "    \n",
    "    # Create figure with a decent size\n",
    "    plt.figure(figsize=(5, 4))\n",
    "    \n",
    "    # Use a more sophisticated layout for better visualization\n",
    "    pos = nx.spring_layout(largest_cc_subgraph, seed=seed)\n",
    "    \n",
    "    # Draw the graph with customized appearance\n",
    "    nx.draw_networkx(\n",
    "        largest_cc_subgraph,\n",
    "        pos=pos,\n",
    "        node_size=50,\n",
    "        alpha=0.8,\n",
    "        with_labels=True,\n",
    "        font_color='gray'\n",
    "    )\n",
    "    \n",
    "    plt.title(f\"Amazon Dataset - Sample of {largest_cc_subgraph.number_of_nodes()} nodes\")\n",
    "    plt.axis('off')\n",
    "    plt.tight_layout()\n",
    "    plt.show()"
   ]
  },
  {
   "cell_type": "code",
   "execution_count": 31,
   "id": "ade8dee6",
   "metadata": {},
   "outputs": [
    {
     "name": "stdout",
     "output_type": "stream",
     "text": [
      "Total nodes in graph: 13752\n",
      "Total edges in graph: 245861\n",
      "Sampled subgraph has 16 nodes and 18 edges\n"
     ]
    },
    {
     "data": {
      "image/png": "[encoded data removed]",
      "text/plain": [
       "<Figure size 500x400 with 1 Axes>"
      ]
     },
     "metadata": {},
     "output_type": "display_data"
    }
   ],
   "source": [
    "visualize_subgraph_largest_cc(data, num_nodes=200)"
   ]
  }
 ],
 "metadata": {
  "kernelspec": {
   "display_name": ".venv",
   "language": "python",
   "name": "python3"
  },
  "language_info": {
   "codemirror_mode": {
    "name": "ipython",
    "version": 3
   },
   "file_extension": ".py",
   "mimetype": "text/x-python",
   "name": "python",
   "nbconvert_exporter": "python",
   "pygments_lexer": "ipython3",
   "version": "3.13.1"
  }
 },
 "nbformat": 4,
 "nbformat_minor": 5
}
